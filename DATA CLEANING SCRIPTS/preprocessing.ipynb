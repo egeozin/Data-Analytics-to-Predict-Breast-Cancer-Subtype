{
 "cells": [
  {
   "cell_type": "code",
   "execution_count": 1,
   "metadata": {
    "collapsed": true
   },
   "outputs": [],
   "source": [
    "import os\n",
    "import numpy as np\n",
    "import pandas as pd"
   ]
  },
  {
   "cell_type": "code",
   "execution_count": null,
   "metadata": {
    "collapsed": true
   },
   "outputs": [],
   "source": [
    "# Global constants\n",
    "data_dir = 'data/raw/clinical_data_tables'\n",
    "\n",
    "def load_per_patient_data():\n",
    "    \"\"\"Load main patient info file\"\"\"\n",
    "    dict_file = os.path.join(data_dir, flat_files_dicts_dir, 'PER_PATIENT.xlsx')\n",
    "    dict_data = pd.read_excel(dict_file)\n",
    "\n",
    "    fields = {}\n",
    "    for i, row in dict_data.iterrows():\n",
    "        type_str = row['vartype']\n",
    "        if type_str == 'Char':\n",
    "            type = str\n",
    "        elif type_str == 'Num':\n",
    "            type = float\n",
    "        else:\n",
    "            raise ValueError('Unknown type {type_str} detected. Fix this.'.format(type_str=type_str))\n",
    "\n",
    "        fields[row['name']] = type\n",
    "\n",
    "    data_file = os.path.join(data_dir, flat_files_dir, 'PER_PATIENT.csv')\n",
    "    data = pd.read_csv(data_file, engine='c', dtype=fields)\n",
    "    data.set_index('PUBLIC_ID')\n",
    "\n",
    "    # Fill in NaN cells in str columns with blank strings\n",
    "    for label, type in fields.items():\n",
    "        if type == str:\n",
    "            data[label].fillna('', inplace=True)\n",
    "\n",
    "    return data, dict_data, fields"
   ]
  }
 ],
 "metadata": {
  "kernelspec": {
   "display_name": "Python 3",
   "language": "python",
   "name": "python3"
  },
  "language_info": {
   "codemirror_mode": {
    "name": "ipython",
    "version": 3
   },
   "file_extension": ".py",
   "mimetype": "text/x-python",
   "name": "python",
   "nbconvert_exporter": "python",
   "pygments_lexer": "ipython3",
   "version": "3.5.3"
  }
 },
 "nbformat": 4,
 "nbformat_minor": 2
}
