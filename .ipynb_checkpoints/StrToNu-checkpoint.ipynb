{
 "cells": [
  {
   "cell_type": "code",
   "execution_count": 1,
   "metadata": {
    "collapsed": true
   },
   "outputs": [],
   "source": [
    "import numpy as np\n",
    "import pandas as pd"
   ]
  },
  {
   "cell_type": "code",
   "execution_count": 2,
   "metadata": {
    "collapsed": true
   },
   "outputs": [],
   "source": [
    "BX_LOCATION={'Bone':1,'Breast':2,'Liver':3,'Axillary Lymph Node':4,'Lung':5,'Chest wall':6,'Omentum':7,'Regional lymph node':8}\n",
    "BX_SIDEDNESS_BREAST={'Left':1,'Right':2,'Not Applicable':0}\n",
    "BX_TYPE={'FNA':1,'Core':2,'Lumpectomy':3,'Mastectomy':4,'Punch':5,'Excision':6,'Wedge':7,'Other':8}"
   ]
  },
  {
   "cell_type": "code",
   "execution_count": 5,
   "metadata": {},
   "outputs": [],
   "source": [
    "data = pd.read_csv('OLD_DATA/imputed_patient_clean_with_therapies_1.csv')"
   ]
  },
  {
   "cell_type": "code",
   "execution_count": 27,
   "metadata": {},
   "outputs": [
    {
     "data": {
      "text/html": [
       "<div>\n",
       "<style>\n",
       "    .dataframe thead tr:only-child th {\n",
       "        text-align: right;\n",
       "    }\n",
       "\n",
       "    .dataframe thead th {\n",
       "        text-align: left;\n",
       "    }\n",
       "\n",
       "    .dataframe tbody tr th {\n",
       "        vertical-align: top;\n",
       "    }\n",
       "</style>\n",
       "<table border=\"1\" class=\"dataframe\">\n",
       "  <thead>\n",
       "    <tr style=\"text-align: right;\">\n",
       "      <th></th>\n",
       "      <th>SAMPLE_ID</th>\n",
       "      <th>PATIENT_ID</th>\n",
       "      <th>ONCOTREE_CODE</th>\n",
       "      <th>CALC_TREATMENT_NAIVE</th>\n",
       "      <th>CALC_MET_SETTING</th>\n",
       "      <th>BX_TIME_DAYS</th>\n",
       "      <th>BX_LOCATION</th>\n",
       "      <th>BX_SIDEDNESS_BREAST</th>\n",
       "      <th>BX_TYPE</th>\n",
       "      <th>BX_DCIS</th>\n",
       "      <th>BX_LCIS</th>\n",
       "      <th>BX_GRADE</th>\n",
       "      <th>BX_ER</th>\n",
       "      <th>BX_PR</th>\n",
       "      <th>BX_HER2OVERALL</th>\n",
       "    </tr>\n",
       "  </thead>\n",
       "  <tbody>\n",
       "    <tr>\n",
       "      <th>0</th>\n",
       "      <td>MBC-MBCProject_1ps2hZH8-Tumor-SM-DL4OO</td>\n",
       "      <td>MBCProject_1ps2hZH8</td>\n",
       "      <td>1</td>\n",
       "      <td>1</td>\n",
       "      <td>1</td>\n",
       "      <td>0</td>\n",
       "      <td>Breast</td>\n",
       "      <td>Left</td>\n",
       "      <td>Core</td>\n",
       "      <td>0</td>\n",
       "      <td>0</td>\n",
       "      <td>2.0</td>\n",
       "      <td>1</td>\n",
       "      <td>1</td>\n",
       "      <td>1</td>\n",
       "    </tr>\n",
       "    <tr>\n",
       "      <th>1</th>\n",
       "      <td>MBC-MBCProject_1qhlIasw-Tumor-SM-AXGNH</td>\n",
       "      <td>MBCProject_1qhlIasw</td>\n",
       "      <td>1</td>\n",
       "      <td>1</td>\n",
       "      <td>0</td>\n",
       "      <td>0</td>\n",
       "      <td>Breast</td>\n",
       "      <td>Left</td>\n",
       "      <td>Mastectomy</td>\n",
       "      <td>1</td>\n",
       "      <td>0</td>\n",
       "      <td>2.0</td>\n",
       "      <td>1</td>\n",
       "      <td>1</td>\n",
       "      <td>-1</td>\n",
       "    </tr>\n",
       "    <tr>\n",
       "      <th>2</th>\n",
       "      <td>MBC-MBCProject_27uAugT4-Tumor-SM-DL45T</td>\n",
       "      <td>MBCProject_27uAugT4</td>\n",
       "      <td>1</td>\n",
       "      <td>0</td>\n",
       "      <td>0</td>\n",
       "      <td>41</td>\n",
       "      <td>Breast</td>\n",
       "      <td>Left</td>\n",
       "      <td>Mastectomy</td>\n",
       "      <td>0</td>\n",
       "      <td>0</td>\n",
       "      <td>3.0</td>\n",
       "      <td>-1</td>\n",
       "      <td>-1</td>\n",
       "      <td>-1</td>\n",
       "    </tr>\n",
       "    <tr>\n",
       "      <th>3</th>\n",
       "      <td>MBC-MBCProject_3jhES9fq-Tumor-SM-AXGIU</td>\n",
       "      <td>MBCProject_3jhES9fq</td>\n",
       "      <td>2</td>\n",
       "      <td>1</td>\n",
       "      <td>1</td>\n",
       "      <td>1</td>\n",
       "      <td>Breast</td>\n",
       "      <td>Right</td>\n",
       "      <td>Lumpectomy</td>\n",
       "      <td>0</td>\n",
       "      <td>0</td>\n",
       "      <td>1.5</td>\n",
       "      <td>-1</td>\n",
       "      <td>-1</td>\n",
       "      <td>-1</td>\n",
       "    </tr>\n",
       "    <tr>\n",
       "      <th>4</th>\n",
       "      <td>MBC-MBCProject_3LI1TNs3-Tumor-SM-DL43B</td>\n",
       "      <td>MBCProject_3LI1TNs3</td>\n",
       "      <td>1</td>\n",
       "      <td>1</td>\n",
       "      <td>1</td>\n",
       "      <td>0</td>\n",
       "      <td>Breast</td>\n",
       "      <td>Left</td>\n",
       "      <td>Core</td>\n",
       "      <td>0</td>\n",
       "      <td>0</td>\n",
       "      <td>2.0</td>\n",
       "      <td>1</td>\n",
       "      <td>1</td>\n",
       "      <td>1</td>\n",
       "    </tr>\n",
       "  </tbody>\n",
       "</table>\n",
       "</div>"
      ],
      "text/plain": [
       "                                SAMPLE_ID           PATIENT_ID  ONCOTREE_CODE  \\\n",
       "0  MBC-MBCProject_1ps2hZH8-Tumor-SM-DL4OO  MBCProject_1ps2hZH8              1   \n",
       "1  MBC-MBCProject_1qhlIasw-Tumor-SM-AXGNH  MBCProject_1qhlIasw              1   \n",
       "2  MBC-MBCProject_27uAugT4-Tumor-SM-DL45T  MBCProject_27uAugT4              1   \n",
       "3  MBC-MBCProject_3jhES9fq-Tumor-SM-AXGIU  MBCProject_3jhES9fq              2   \n",
       "4  MBC-MBCProject_3LI1TNs3-Tumor-SM-DL43B  MBCProject_3LI1TNs3              1   \n",
       "\n",
       "  CALC_TREATMENT_NAIVE  CALC_MET_SETTING  BX_TIME_DAYS BX_LOCATION  \\\n",
       "0                    1                 1             0      Breast   \n",
       "1                    1                 0             0      Breast   \n",
       "2                    0                 0            41      Breast   \n",
       "3                    1                 1             1      Breast   \n",
       "4                    1                 1             0      Breast   \n",
       "\n",
       "  BX_SIDEDNESS_BREAST     BX_TYPE  BX_DCIS  BX_LCIS  BX_GRADE  BX_ER  BX_PR  \\\n",
       "0                Left        Core        0        0       2.0      1      1   \n",
       "1                Left  Mastectomy        1        0       2.0      1      1   \n",
       "2                Left  Mastectomy        0        0       3.0     -1     -1   \n",
       "3               Right  Lumpectomy        0        0       1.5     -1     -1   \n",
       "4                Left        Core        0        0       2.0      1      1   \n",
       "\n",
       "   BX_HER2OVERALL  \n",
       "0               1  \n",
       "1              -1  \n",
       "2              -1  \n",
       "3              -1  \n",
       "4               1  "
      ]
     },
     "execution_count": 27,
     "metadata": {},
     "output_type": "execute_result"
    }
   ],
   "source": [
    "data.head()"
   ]
  },
  {
   "cell_type": "code",
   "execution_count": 28,
   "metadata": {
    "collapsed": true
   },
   "outputs": [],
   "source": [
    "data['BX_LOCATION'].replace(BX_LOCATION,inplace=True)\n",
    "data['BX_SIDEDNESS_BREAST'].replace(BX_SIDEDNESS_BREAST,inplace=True)\n",
    "data['BX_TYPE'].replace(BX_TYPE,inplace=True)\n",
    "\n",
    "data.to_csv('LL_imputed_sample_clean.txt', sep='\\t')"
   ]
  },
  {
   "cell_type": "code",
   "execution_count": null,
   "metadata": {
    "collapsed": true
   },
   "outputs": [],
   "source": []
  }
 ],
 "metadata": {
  "kernelspec": {
   "display_name": "Python 3",
   "language": "python",
   "name": "python3"
  },
  "language_info": {
   "codemirror_mode": {
    "name": "ipython",
    "version": 3
   },
   "file_extension": ".py",
   "mimetype": "text/x-python",
   "name": "python",
   "nbconvert_exporter": "python",
   "pygments_lexer": "ipython3",
   "version": "3.5.3"
  }
 },
 "nbformat": 4,
 "nbformat_minor": 2
}
