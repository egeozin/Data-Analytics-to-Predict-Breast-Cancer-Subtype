{
 "cells": [
  {
   "cell_type": "code",
   "execution_count": 2,
   "metadata": {},
   "outputs": [
    {
     "data": {
      "text/html": [
       "<script>requirejs.config({paths: { 'plotly': ['https://cdn.plot.ly/plotly-latest.min']},});if(!window.Plotly) {{require(['plotly'],function(plotly) {window.Plotly=plotly;});}}</script>"
      ],
      "text/plain": [
       "<IPython.core.display.HTML object>"
      ]
     },
     "metadata": {},
     "output_type": "display_data"
    }
   ],
   "source": [
    "import numpy as np\n",
    "import pandas as pd\n",
    "import math\n",
    "from sklearn.preprocessing import StandardScaler\n",
    "from sklearn.decomposition import TruncatedSVD\n",
    "from sklearn import decomposition\n",
    "from sklearn.linear_model import LogisticRegression\n",
    "from sklearn.linear_model import ElasticNet\n",
    "from matplotlib import pyplot as plt\n",
    "import matplotlib.style as style\n",
    "\n",
    "import plotly\n",
    "from plotly.offline import init_notebook_mode, iplot\n",
    "init_notebook_mode(connected=True)\n",
    "plotly.plotly.sign_in('spersad', 'oNkuP1yzbpN734Ag8M9P')\n",
    "import plotly.graph_objs as go\n",
    "\n",
    "from IPython.core.display import display, HTML\n"
   ]
  },
  {
   "cell_type": "code",
   "execution_count": 3,
   "metadata": {},
   "outputs": [
    {
     "name": "stdout",
     "output_type": "stream",
     "text": [
      "(103, 23109)\n"
     ]
    }
   ],
   "source": [
    "\n",
    "data = pd.read_csv('data_CNA.xls.txt',sep='\\t')\n",
    "labels= pd.read_csv('OLD_DATA/data_clinical_sample_clean.tsv',sep='\\t')\n",
    "\n",
    "data.set_index('Hugo_Symbol', inplace=True)\n",
    "labels.set_index('SAMPLE_ID', inplace=True)\n",
    "\n",
    "data.drop(['Entrez_Gene_Id'], axis=1,inplace=True)\n",
    "labels.drop(['Unnamed: 0'], axis=1,inplace=True)\n",
    "data = data.transpose() # Convert data to matrix, rows are tumour samples\n",
    "\n",
    "labels = labels['ONCOTREE_CODE']\n",
    "result = pd.concat([data, labels], axis=1)\n",
    "result.head()\n",
    "\n",
    "labels=result['ONCOTREE_CODE']\n",
    "\n",
    "X = data.as_matrix() \n",
    "Y = labels\n",
    "\n",
    "print(X.shape)"
   ]
  },
  {
   "cell_type": "code",
   "execution_count": 36,
   "metadata": {
    "scrolled": false
   },
   "outputs": [
    {
     "data": {
      "text/html": [
       "<div id=\"ce099b90-2910-4f49-9e27-fc379af411fd\" style=\"height: 525px; width: 100%;\" class=\"plotly-graph-div\"></div><script type=\"text/javascript\">require([\"plotly\"], function(Plotly) { window.PLOTLYENV=window.PLOTLYENV || {};window.PLOTLYENV.BASE_URL=\"https://plot.ly\";Plotly.newPlot(\"ce099b90-2910-4f49-9e27-fc379af411fd\", [{\"name\": \"Training Set\", \"y\": [0.17647058823529413, 0.6470588235294118, 0.09803921568627451, 0.0784313725490196], \"type\": \"bar\", \"x\": [1, 2, 3, 4]}, {\"name\": \"Validation Set\", \"y\": [0.1, 0.7, 0.1, 0.1], \"type\": \"bar\", \"x\": [1, 2, 3, 4]}, {\"name\": \"Test Set\", \"y\": [0.14285714285714285, 0.6428571428571429, 0.11904761904761904, 0.09523809523809523], \"type\": \"bar\", \"x\": [1, 2, 3, 4]}], {\"barmode\": \"group\", \"title\": \"Distribution of Categories over Data Sets\"}, {\"linkText\": \"Export to plot.ly\", \"showLink\": true})});</script>"
      ],
      "text/plain": [
       "<IPython.core.display.HTML object>"
      ]
     },
     "metadata": {},
     "output_type": "display_data"
    },
    {
     "name": "stdout",
     "output_type": "stream",
     "text": [
      "Dataset 2CN, train_samples=51, n_features=23109, n_classes=4\n",
      "[model=One versus Rest, solver=newton-cg] Number of epochs: 1\n",
      "[model=One versus Rest, solver=newton-cg] Number of epochs: 3\n"
     ]
    },
    {
     "name": "stderr",
     "output_type": "stream",
     "text": [
      "C:\\Users\\Sitara\\Anaconda3\\lib\\site-packages\\sklearn\\utils\\optimize.py:203: ConvergenceWarning:\n",
      "\n",
      "newton-cg failed to converge. Increase the number of iterations.\n",
      "\n"
     ]
    },
    {
     "name": "stdout",
     "output_type": "stream",
     "text": [
      "[model=One versus Rest, solver=newton-cg] Number of epochs: 7\n",
      "[model=One versus Rest, solver=newton-cg] Number of epochs: 11\n",
      "[model=One versus Rest, solver=newton-cg] Number of epochs: 13\n",
      "[model=One versus Rest, solver=newton-cg] Number of epochs: 15\n",
      "Test accuracy for model ovr: 0.5952\n",
      "Train accuracy for model ovr: 1.0000\n",
      "Validation accuracy for model ovr: 0.7000\n",
      "% non-zero coefficients for model ovr, per class:\n",
      " [ 100.  100.  100.  100.]\n",
      "Run time (15 epochs) for model ovr:1.00\n",
      "[model=Multinomial, solver=newton-cg] Number of epochs: 1\n",
      "[model=Multinomial, solver=newton-cg] Number of epochs: 3\n",
      "[model=Multinomial, solver=newton-cg] Number of epochs: 7\n",
      "[model=Multinomial, solver=newton-cg] Number of epochs: 11\n",
      "[model=Multinomial, solver=newton-cg] Number of epochs: 13\n",
      "[model=Multinomial, solver=newton-cg] Number of epochs: 15\n",
      "Test accuracy for model multinomial: 0.5952\n",
      "Train accuracy for model multinomial: 1.0000\n",
      "Validation accuracy for model multinomial: 0.7000\n",
      "% non-zero coefficients for model multinomial, per class:\n",
      " [ 100.  100.  100.  100.]\n",
      "Run time (15 epochs) for model multinomial:0.57\n"
     ]
    },
    {
     "data": {
      "text/html": [
       "<div id=\"be305ab1-63f9-4c11-b102-f49f29cfa024\" style=\"height: 525px; width: 100%;\" class=\"plotly-graph-div\"></div><script type=\"text/javascript\">require([\"plotly\"], function(Plotly) { window.PLOTLYENV=window.PLOTLYENV || {};window.PLOTLYENV.BASE_URL=\"https://plot.ly\";Plotly.newPlot(\"be305ab1-63f9-4c11-b102-f49f29cfa024\", [{\"name\": \"tr_accuracies\", \"y\": [0.25, 0.7843137254901961, 1.0, 1.0, 1.0, 1.0, 1.0], \"type\": \"scatter\", \"x\": [0, 0.058051210603480285, 0.23761816908518085, 0.36186252898960447, 0.9465879631734424, 0.9916517025822031, 1.0009485116529504]}, {\"name\": \"val_accuracies\", \"y\": [0.25, 0.7, 0.7, 0.7, 0.7, 0.7, 0.7], \"type\": \"scatter\", \"x\": [0, 0.058051210603480285, 0.23761816908518085, 0.36186252898960447, 0.9465879631734424, 0.9916517025822031, 1.0009485116529504]}, {\"name\": \"test_accuracies\", \"y\": [0.25, 0.6428571428571429, 0.5, 0.5, 0.5952380952380952, 0.5952380952380952, 0.5952380952380952], \"type\": \"scatter\", \"x\": [0, 0.058051210603480285, 0.23761816908518085, 0.36186252898960447, 0.9465879631734424, 0.9916517025822031, 1.0009485116529504]}], {\"yaxis\": {\"title\": \"Accuracy\"}, \"xaxis\": {\"title\": \"Time\"}, \"title\": \"Accuracy for ovr model\"}, {\"linkText\": \"Export to plot.ly\", \"showLink\": true})});</script>"
      ],
      "text/plain": [
       "<IPython.core.display.HTML object>"
      ]
     },
     "metadata": {},
     "output_type": "display_data"
    },
    {
     "data": {
      "text/html": [
       "<div id=\"ec3c449d-b6e0-44db-a0b5-918b162d2de6\" style=\"height: 525px; width: 100%;\" class=\"plotly-graph-div\"></div><script type=\"text/javascript\">require([\"plotly\"], function(Plotly) { window.PLOTLYENV=window.PLOTLYENV || {};window.PLOTLYENV.BASE_URL=\"https://plot.ly\";Plotly.newPlot(\"ec3c449d-b6e0-44db-a0b5-918b162d2de6\", [{\"name\": \"tr_accuracies\", \"y\": [0.25, 0.6470588235294118, 1.0, 1.0, 1.0, 1.0, 1.0], \"type\": \"scatter\", \"x\": [0, 0.01992736008924112, 0.0649430995572402, 0.15288719644649973, 0.3639753469024072, 0.4042247332622537, 0.5666327385029035]}, {\"name\": \"val_accuracies\", \"y\": [0.25, 0.7, 0.7, 0.7, 0.7, 0.7, 0.7], \"type\": \"scatter\", \"x\": [0, 0.01992736008924112, 0.0649430995572402, 0.15288719644649973, 0.3639753469024072, 0.4042247332622537, 0.5666327385029035]}, {\"name\": \"test_accuracies\", \"y\": [0.25, 0.6428571428571429, 0.5, 0.5238095238095238, 0.5952380952380952, 0.5952380952380952, 0.5952380952380952], \"type\": \"scatter\", \"x\": [0, 0.01992736008924112, 0.0649430995572402, 0.15288719644649973, 0.3639753469024072, 0.4042247332622537, 0.5666327385029035]}], {\"yaxis\": {\"title\": \"Accuracy\"}, \"xaxis\": {\"title\": \"Time\"}, \"title\": \"Accuracy for multinomial model\"}, {\"linkText\": \"Export to plot.ly\", \"showLink\": true})});</script>"
      ],
      "text/plain": [
       "<IPython.core.display.HTML object>"
      ]
     },
     "metadata": {},
     "output_type": "display_data"
    },
    {
     "name": "stdout",
     "output_type": "stream",
     "text": [
      "Example run in 5.615 s\n"
     ]
    }
   ],
   "source": [
    "from sklearn.linear_model import LogisticRegression\n",
    "from sklearn.model_selection import train_test_split\n",
    "\n",
    "import time\n",
    "\n",
    "randomize = False\n",
    "if randomize:\n",
    "    random_indices = np.random.permutation(len(X))\n",
    "    # Randomized data\n",
    "    X_r = X[random_indices]\n",
    "    Y_r = Y[random_indices]\n",
    "\n",
    "# Select a training, test and validation set\n",
    "n_train = int(0.5*X.shape[0])\n",
    "n_val = int(0.1*X.shape[0])\n",
    "\n",
    "X_train, y_train = X_r[:n_train], Y_r[:n_train]\n",
    "X_val, y_val = X_r[n_train:n_train+n_val], Y_r[n_train:n_train+n_val]\n",
    "X_test, y_test = X_r[n_train+n_val:], Y_r[n_train+n_val:]\n",
    "\n",
    "# How many of each cancer type are in the train, test and validations set?\n",
    "tr_count = y_train.value_counts()/np.sum( y_train.value_counts())\n",
    "val_count = y_val.value_counts()/np.sum(y_val.value_counts())\n",
    "te_count = y_test.value_counts()/np.sum(y_test.value_counts())\n",
    "\n",
    "\n",
    "# Plot the distribution of test, train and val points. Will throw a KeyError if any\n",
    "try:\n",
    "    trace1 = go.Bar(\n",
    "        x=[1,2,3,4],\n",
    "        y=[tr_count[i] for i in range(4)],\n",
    "        name='Training Set'\n",
    "    )\n",
    "    trace2 = go.Bar(\n",
    "        x=[1,2,3,4],\n",
    "        y=[val_count[i] for i in range(4)],\n",
    "        name='Validation Set'\n",
    "    )\n",
    "\n",
    "    trace3 = go.Bar(\n",
    "        x=[1,2,3,4],\n",
    "        y=[te_count[i] for i in range(4)],\n",
    "        name='Test Set'\n",
    "    )\n",
    "\n",
    "    data = [trace1, trace2, trace3]\n",
    "    layout = go.Layout(\n",
    "        barmode='group',\n",
    "        title = 'Distribution of Categories over Data Sets'\n",
    "    )\n",
    "\n",
    "    fig = go.Figure(data=data, layout=layout)\n",
    "    iplot(fig, filename='grouped-bar')\n",
    "\n",
    "except KeyError:\n",
    "    print(tr_count)\n",
    "    print(val_count)\n",
    "    print(te_count)\n",
    "    print('One of the data sets does not contain all the categories!')\n",
    "    assert False\n",
    "\n",
    "\n",
    "t0 = time.clock()\n",
    "\n",
    "\n",
    "# Turn down for faster run time\n",
    "n_samples = 10000\n",
    "\n",
    "penalty = 'l2'\n",
    "\n",
    "train_samples, n_features = X_train.shape\n",
    "n_classes = np.unique(Y).shape[0]\n",
    "\n",
    "print('Dataset 2CN, train_samples=%i, n_features=%i, n_classes=%i'\n",
    "      % (train_samples, n_features, n_classes))\n",
    "\n",
    "models = {'ovr': {'name': 'One versus Rest', 'iters': [1, 3, 7, 11, 13, 15]},\n",
    "          'multinomial': {'name': 'Multinomial', 'iters': [1, 3, 7, 11, 13, 15]}}\n",
    "\n",
    "# Solver which handles multiclass and l1 penalty\n",
    "solver = 'newton-cg'\n",
    "\n",
    "if penalty == 'l1':\n",
    "    print('Using l1 regression')\n",
    "    models = {'ovr': {'name': 'One versus Rest', 'iters': [1, 3]}}\n",
    "    solver = 'liblinear'\n",
    "    \n",
    "for model in models:\n",
    "    # Add initial chance-level values for plotting purpose\n",
    "    test_accuracies = [1 / n_classes]\n",
    "    tr_accuracies = [1/n_classes]\n",
    "    val_accuracies = [1/n_classes]\n",
    "    times = [0]\n",
    "    densities = [1]\n",
    "\n",
    "    model_params = models[model]\n",
    "\n",
    "    # Small number of epochs for fast runtime\n",
    "    for this_max_iter in model_params['iters']:\n",
    "        print('[model=%s, solver=%s] Number of epochs: %s' %\n",
    "              (model_params['name'], solver, this_max_iter))\n",
    "        lr = LogisticRegression(solver=solver,\n",
    "                                multi_class=model,\n",
    "                                C=1,\n",
    "                                penalty=penalty,\n",
    "                                fit_intercept=True,\n",
    "                                max_iter=this_max_iter,\n",
    "                                random_state=42,\n",
    "                                )\n",
    "        t1 = time.clock()\n",
    "        lr.fit(X_train, y_train)\n",
    "        train_time = time.clock() - t1\n",
    "\n",
    "        y_pred = lr.predict(X_test)\n",
    "        accuracy = np.sum(y_pred == y_test) / y_test.shape[0]\n",
    "        density = np.mean(lr.coef_ != 0, axis=1) * 100\n",
    "        tr_accuracy = np.sum(y_train == lr.predict(X_train)) / y_train.shape[0]\n",
    "        val_accuracy = np.sum(y_val == lr.predict(X_val)) / y_val.shape[0]\n",
    "        \n",
    "        test_accuracies.append(accuracy)\n",
    "        densities.append(density)\n",
    "        tr_accuracies.append(tr_accuracy)\n",
    "        val_accuracies.append(val_accuracy)\n",
    "        times.append(train_time)\n",
    "    models[model]['times'] = times\n",
    "    models[model]['densities'] = densities\n",
    "    models[model]['test_accuracies'] = test_accuracies\n",
    "    models[model]['tr_accuracies'] = tr_accuracies\n",
    "    models[model]['val_accuracies'] = val_accuracies\n",
    "    \n",
    "    print('Test accuracy for model %s: %.4f' % (model, test_accuracies[-1]))\n",
    "    print('Train accuracy for model %s: %.4f' % (model, tr_accuracies[-1]))\n",
    "    print('Validation accuracy for model %s: %.4f' % (model, val_accuracies[-1]))\n",
    "    print('%% non-zero coefficients for model %s, '\n",
    "          'per class:\\n %s' % (model, densities[-1]))\n",
    "    print('Run time (%i epochs) for model %s:'\n",
    "          '%.2f' % (model_params['iters'][-1], model, times[-1]))\n",
    "\n",
    "fig = plt.figure()\n",
    "ax = fig.add_subplot(111)\n",
    "\n",
    "for model in models:\n",
    "    data = []\n",
    "    for accuracy in ['tr_accuracies', 'val_accuracies','test_accuracies']:\n",
    "        \n",
    "        trace = go.Scatter(\n",
    "                            x = models[model]['times'],\n",
    "                            y = models[model][accuracy],\n",
    "                            name = accuracy\n",
    "                        )\n",
    "\n",
    "        data.append(trace)\n",
    "    layout = go.Layout(\n",
    "        title = 'Accuracy for {0} model'.format(model),\n",
    "        xaxis = dict(title = 'Time'),\n",
    "        yaxis = dict(title = 'Accuracy'),\n",
    "    )\n",
    "\n",
    "    fig = go.Figure(data=data, layout=layout)\n",
    "    iplot(fig)\n",
    "        \n",
    "run_time = time.clock() - t0\n",
    "print('Example run in %.3f s' % run_time)"
   ]
  },
  {
   "cell_type": "code",
   "execution_count": 41,
   "metadata": {},
   "outputs": [
    {
     "data": {
      "text/html": [
       "<div id=\"e09ff036-9cec-4087-8425-ca86d54f740a\" style=\"height: 525px; width: 100%;\" class=\"plotly-graph-div\"></div><script type=\"text/javascript\">require([\"plotly\"], function(Plotly) { window.PLOTLYENV=window.PLOTLYENV || {};window.PLOTLYENV.BASE_URL=\"https://plot.ly\";Plotly.newPlot(\"e09ff036-9cec-4087-8425-ca86d54f740a\", [{\"type\": \"heatmap\", \"z\": [[1, 5, 0, 0], [1, 24, 1, 1], [0, 5, 0, 0], [0, 4, 0, 0]]}], {}, {\"linkText\": \"Export to plot.ly\", \"showLink\": true})});</script>"
      ],
      "text/plain": [
       "<IPython.core.display.HTML object>"
      ]
     },
     "metadata": {},
     "output_type": "display_data"
    }
   ],
   "source": [
    "from sklearn.metrics import confusion_matrix\n",
    "c = confusion_matrix(y_test, lr.predict(X_test))\n",
    "\n",
    "trace = go.Heatmap(z=c)\n",
    "data=[trace]\n",
    "\n",
    "layout = go.Layout(\n",
    "    title = 'Confusion Matrix for Test Predictions',\n",
    "    xaxis = dict(title = 'Time'),\n",
    "    yaxis = dict(title = 'Accuracy'),\n",
    ")\n",
    "\n",
    "fig = go.Figure(data=data, layout=layout)\n",
    "iplot(fig)\n"
   ]
  },
  {
   "cell_type": "code",
   "execution_count": null,
   "metadata": {
    "collapsed": true
   },
   "outputs": [],
   "source": []
  }
 ],
 "metadata": {
  "kernelspec": {
   "display_name": "Python 3",
   "language": "python",
   "name": "python3"
  },
  "language_info": {
   "codemirror_mode": {
    "name": "ipython",
    "version": 3
   },
   "file_extension": ".py",
   "mimetype": "text/x-python",
   "name": "python",
   "nbconvert_exporter": "python",
   "pygments_lexer": "ipython3",
   "version": "3.5.3"
  }
 },
 "nbformat": 4,
 "nbformat_minor": 2
}
