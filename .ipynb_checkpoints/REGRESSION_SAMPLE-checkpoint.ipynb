{
 "cells": [
  {
   "cell_type": "code",
   "execution_count": 56,
   "metadata": {
    "collapsed": true
   },
   "outputs": [],
   "source": [
    "import numpy as np\n",
    "import pandas as pd\n",
    "import math\n",
    "from sklearn.preprocessing import StandardScaler\n",
    "from sklearn.decomposition import TruncatedSVD\n",
    "from sklearn import decomposition\n",
    "from sklearn.linear_model import LogisticRegression\n",
    "from sklearn.linear_model import ElasticNet\n",
    "from sklearn.model_selection import train_test_split\n",
    "from matplotlib import pyplot as plt\n",
    "import matplotlib.style as style\n",
    "import time"
   ]
  },
  {
   "cell_type": "code",
   "execution_count": 69,
   "metadata": {
    "collapsed": true
   },
   "outputs": [],
   "source": [
    "style.use('fivethirtyeight')\n",
    "imputed = 'PATIENT_DATA_ALL_3.csv'\n",
    "non_imputed = 'filename_2.txt'\n",
    "\n",
    "#merged = np.genfromtxt(imputed, delimiter='\\t')\n",
    "merged = pd.read_csv(imputed, sep='\\t', )\n",
    "labels = pd.read_csv('OLD_DATA/data_clinical_sample_clean.tsv', sep='\\t')\n",
    "\n",
    "labels.set_index('SAMPLE_ID', inplace=True)\n",
    "labels.drop(['Unnamed: 0'], axis=1, inplace=True)\n",
    "\n",
    "merged.drop('PATIENT_ID', axis=1,inplace=True)\n",
    "#merged.drop('SAMPLE_ID', axis=1,inplace=True)\n",
    "merged.drop(['Unnamed: 0'], axis=1,inplace=True)\n",
    "#merged = merged.transpose()\n",
    "merged.set_index('SAMPLE_ID', inplace=True)\n",
    "merged.sort_index(inplace=True)\n",
    "\n",
    "labels = labels['ONCOTREE_CODE']\n",
    "labels.sort_index(inplace=True)\n",
    "#result = pd.concat([merged, labels], axis=1)\n",
    "\n",
    "#labels = result['ONCOTREE_CODE']\n",
    "#labels.columns.values[1] = 'c'"
   ]
  },
  {
   "cell_type": "code",
   "execution_count": 70,
   "metadata": {},
   "outputs": [],
   "source": [
    "#labels = labels.drop(labels.index['MBC-MBCProject_4DIpSBFV-Tumor-SM-CGM2Q'])\n",
    "labels = labels[labels.index.str.contains(\"MBC-MBCProject_43UpSwhz-Tumor-SM-DL4W8\") == False]"
   ]
  },
  {
   "cell_type": "code",
   "execution_count": 47,
   "metadata": {},
   "outputs": [
    {
     "data": {
      "text/plain": [
       "102"
      ]
     },
     "execution_count": 47,
     "metadata": {},
     "output_type": "execute_result"
    }
   ],
   "source": [
    "len(labels)"
   ]
  },
  {
   "cell_type": "code",
   "execution_count": 71,
   "metadata": {},
   "outputs": [],
   "source": [
    "random_indices = np.random.permutation(len(labels))"
   ]
  },
  {
   "cell_type": "code",
   "execution_count": 72,
   "metadata": {
    "collapsed": true
   },
   "outputs": [],
   "source": [
    "X_randomized = merged.iloc[random_indices]\n",
    "Y_randomized = labels.iloc[random_indices]"
   ]
  },
  {
   "cell_type": "code",
   "execution_count": 73,
   "metadata": {
    "collapsed": true
   },
   "outputs": [],
   "source": [
    "X = X_randomized.as_matrix() \n",
    "Y = Y_randomized.as_matrix()"
   ]
  },
  {
   "cell_type": "code",
   "execution_count": 53,
   "metadata": {},
   "outputs": [
    {
     "data": {
      "text/plain": [
       "array([[  5.00000000e+00,   3.94800000e+03,   1.00000000e+00, ...,\n",
       "          1.00000000e+00,   1.00000000e+00,  -1.00000000e+00],\n",
       "       [  2.00000000e+00,   1.32800000e+03,   1.00000000e+00, ...,\n",
       "          1.00000000e+00,   1.00000000e+00,  -1.00000000e+00],\n",
       "       [  4.00000000e+00,   9.36000000e+02,   0.00000000e+00, ...,\n",
       "         -1.00000000e+00,  -1.00000000e+00,  -1.00000000e+00],\n",
       "       ..., \n",
       "       [  1.00000000e+00,   7.86000000e+02,   0.00000000e+00, ...,\n",
       "          1.00000000e+00,   1.00000000e+00,   1.00000000e+00],\n",
       "       [  2.00000000e+00,   2.83000000e+03,   1.00000000e+00, ...,\n",
       "          1.00000000e+00,   1.00000000e+00,  -1.00000000e+00],\n",
       "       [  1.00000000e+00,   0.00000000e+00,   1.00000000e+00, ...,\n",
       "          1.00000000e+00,   1.00000000e+00,  -1.00000000e+00]])"
      ]
     },
     "execution_count": 53,
     "metadata": {},
     "output_type": "execute_result"
    }
   ],
   "source": [
    "X"
   ]
  },
  {
   "cell_type": "code",
   "execution_count": 74,
   "metadata": {
    "collapsed": true,
    "scrolled": true
   },
   "outputs": [],
   "source": [
    "X_train, y_train = X[:60], Y[:60]\n",
    "X_test, y_test = X[60:], Y[60:]"
   ]
  },
  {
   "cell_type": "code",
   "execution_count": 318,
   "metadata": {},
   "outputs": [
    {
     "data": {
      "text/plain": [
       "(70, 106)"
      ]
     },
     "execution_count": 318,
     "metadata": {},
     "output_type": "execute_result"
    }
   ],
   "source": [
    "X_train.shape"
   ]
  },
  {
   "cell_type": "code",
   "execution_count": 75,
   "metadata": {},
   "outputs": [
    {
     "name": "stdout",
     "output_type": "stream",
     "text": [
      "Dataset 2CN, train_samples=70, n_features=59, n_classes=4\n",
      "Using l1 regression\n",
      "[model=One versus Rest, solver=liblinear] Number of epochs: 1\n",
      "[model=One versus Rest, solver=liblinear] Number of epochs: 3\n",
      "Test accuracy for model ovr: 0.8125\n",
      "Train accuracy for model ovr: 0.8714\n",
      "% non-zero coefficients for model ovr, per class:\n",
      " [ 32.20338983  49.15254237  35.59322034  38.98305085]\n",
      "Run time (3 epochs) for model ovr:0.00\n",
      "Example run in 0.089 s\n"
     ]
    },
    {
     "data": {
      "image/png": "[encoded data removed]",
      "text/plain": [
       "<matplotlib.figure.Figure at 0x113cfcd68>"
      ]
     },
     "metadata": {},
     "output_type": "display_data"
    }
   ],
   "source": [
    "# Turn down for faster run time\n",
    "\n",
    "n_samples = 10000\n",
    "\n",
    "t0 = time.clock()\n",
    "\n",
    "penalty = 'l1'\n",
    "\n",
    "train_samples, n_features = X_train.shape\n",
    "n_classes = np.unique(Y).shape[0]\n",
    "\n",
    "print('Dataset 2CN, train_samples=%i, n_features=%i, n_classes=%i'\n",
    "      % (train_samples, n_features, n_classes))\n",
    "\n",
    "models = {'ovr': {'name': 'One versus Rest', 'iters': [1, 3]},\n",
    "          'multinomial': {'name': 'Multinomial', 'iters': [1, 3, 7]}}\n",
    "\n",
    "# Solver which handles multiclass and l1 penalty\n",
    "solver = 'newton-cg'\n",
    "\n",
    "if penalty == 'l1':\n",
    "    print('Using l1 regression')\n",
    "    models = {'ovr': {'name': 'One versus Rest', 'iters': [1, 3]}}\n",
    "    solver = 'liblinear'\n",
    "    \n",
    "for model in models:\n",
    "    # Add initial chance-level values for plotting purpose\n",
    "    accuracies = [1 / n_classes]\n",
    "    tr_accuracies = [1/n_classes]\n",
    "    times = [0]\n",
    "    densities = [1]\n",
    "\n",
    "    model_params = models[model]\n",
    "\n",
    "    # Small number of epochs for fast runtime\n",
    "    for this_max_iter in model_params['iters']:\n",
    "        print('[model=%s, solver=%s] Number of epochs: %s' %\n",
    "              (model_params['name'], solver, this_max_iter))\n",
    "        lr = LogisticRegression(solver=solver,\n",
    "                                multi_class=model,\n",
    "                                C=1,\n",
    "                                penalty=penalty,\n",
    "                                fit_intercept=True,\n",
    "                                max_iter=this_max_iter,\n",
    "                                random_state=42,\n",
    "                                )\n",
    "        t1 = time.clock()\n",
    "        lr.fit(X_train, y_train)\n",
    "        train_time = time.clock() - t1\n",
    "        times.append(train_time)\n",
    "        tr_accuracy = np.sum(y_train == lr.predict(X_train)) / y_train.shape[0]\n",
    "\n",
    "        y_pred = lr.predict(X_test)\n",
    "        accuracy = np.sum(y_pred == y_test) / y_test.shape[0]\n",
    "        density = np.mean(lr.coef_ != 0, axis=1) * 100\n",
    "        accuracies.append(accuracy)\n",
    "        tr_accuracies.append(tr_accuracy)\n",
    "        densities.append(density)\n",
    "        \n",
    "    models[model]['times'] = times\n",
    "    models[model]['densities'] = densities\n",
    "    models[model]['accuracies'] = accuracies\n",
    "    models[model]['tr_accuracies'] = tr_accuracies\n",
    "    print('Test accuracy for model %s: %.4f' % (model, accuracies[-1]))\n",
    "    print('Train accuracy for model %s: %.4f' % (model, tr_accuracies[-1]))\n",
    "    print('%% non-zero coefficients for model %s, '\n",
    "          'per class:\\n %s' % (model, densities[-1]))\n",
    "    print('Run time (%i epochs) for model %s:'\n",
    "          '%.2f' % (model_params['iters'][-1], model, times[-1]))\n",
    "\n",
    "fig = plt.figure()\n",
    "ax = fig.add_subplot(111)\n",
    "\n",
    "for model in models:\n",
    "    name = models[model]['name']\n",
    "    times = models[model]['times']\n",
    "    accuracies = models[model]['accuracies']\n",
    "    ax.plot(times, accuracies, marker='o',\n",
    "            label='Model: %s' % name)\n",
    "    ax.set_xlabel('Train time (s)')\n",
    "    ax.set_ylabel('Test accuracy')\n",
    "ax.legend()\n",
    "fig.suptitle('Multinomial vs One-vs-Rest Logistic L1\\n'\n",
    "             'Dataset %s' % '20newsgroups')\n",
    "fig.tight_layout()\n",
    "fig.subplots_adjust(top=0.85)\n",
    "run_time = time.clock() - t0\n",
    "print('Example run in %.3f s' % run_time)\n",
    "plt.show()"
   ]
  },
  {
   "cell_type": "code",
   "execution_count": 344,
   "metadata": {},
   "outputs": [
    {
     "data": {
      "text/plain": [
       "array([1, 1, 1, 1, 1, 1, 1, 1, 1, 1, 1, 1, 1, 0, 1, 1, 1, 1, 1, 1, 1, 1, 1,\n",
       "       1, 1, 1, 1, 1, 1, 1, 1, 0])"
      ]
     },
     "execution_count": 344,
     "metadata": {},
     "output_type": "execute_result"
    }
   ],
   "source": [
    "y_pred"
   ]
  },
  {
   "cell_type": "code",
   "execution_count": null,
   "metadata": {
    "collapsed": true
   },
   "outputs": [],
   "source": []
  }
 ],
 "metadata": {
  "kernelspec": {
   "display_name": "Python 3",
   "language": "python",
   "name": "python3"
  },
  "language_info": {
   "codemirror_mode": {
    "name": "ipython",
    "version": 3
   },
   "file_extension": ".py",
   "mimetype": "text/x-python",
   "name": "python",
   "nbconvert_exporter": "python",
   "pygments_lexer": "ipython3",
   "version": "3.5.3"
  }
 },
 "nbformat": 4,
 "nbformat_minor": 2
}
