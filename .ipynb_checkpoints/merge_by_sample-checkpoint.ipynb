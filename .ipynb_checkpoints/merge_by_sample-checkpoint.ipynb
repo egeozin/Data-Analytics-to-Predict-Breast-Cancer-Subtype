{
 "cells": [
  {
   "cell_type": "code",
   "execution_count": 1,
   "metadata": {
    "collapsed": true
   },
   "outputs": [],
   "source": [
    "import numpy as np\n",
    "import pandas as pd\n"
   ]
  },
  {
   "cell_type": "code",
   "execution_count": null,
   "metadata": {
    "collapsed": true
   },
   "outputs": [],
   "source": [
    "def merge_dataframes(data_frames, index_col):\n",
    "    dfs = []\n",
    "    for data in data_frames:\n",
    "        df = pd.DataFrame(data)\n",
    "        # Make sample_id the index \n",
    "        dfs.append(df)\n",
    "    result = pd.concat([df1, df4], axis=1)\n",
    "    \n",
    "    re"
   ]
  }
 ],
 "metadata": {
  "kernelspec": {
   "display_name": "Python 3",
   "language": "python",
   "name": "python3"
  },
  "language_info": {
   "codemirror_mode": {
    "name": "ipython",
    "version": 3
   },
   "file_extension": ".py",
   "mimetype": "text/x-python",
   "name": "python",
   "nbconvert_exporter": "python",
   "pygments_lexer": "ipython3",
   "version": "3.5.0"
  }
 },
 "nbformat": 4,
 "nbformat_minor": 2
}
