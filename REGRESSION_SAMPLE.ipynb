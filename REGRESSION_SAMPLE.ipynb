{
 "cells": [
  {
   "cell_type": "code",
   "execution_count": 180,
   "metadata": {
    "collapsed": true
   },
   "outputs": [],
   "source": [
    "import numpy as np\n",
    "import pandas as pd\n",
    "import math\n",
    "from sklearn.preprocessing import StandardScaler\n",
    "from sklearn.decomposition import TruncatedSVD\n",
    "from sklearn import decomposition\n",
    "from sklearn.linear_model import LogisticRegression\n",
    "from sklearn.linear_model import ElasticNet\n",
    "from sklearn.model_selection import train_test_split\n",
    "from matplotlib import pyplot as plt\n",
    "import matplotlib.style as style\n",
    "import time"
   ]
  },
  {
   "cell_type": "code",
   "execution_count": 309,
   "metadata": {
    "collapsed": true
   },
   "outputs": [],
   "source": [
    "style.use('fivethirtyeight')\n",
    "imputed = 'PATIENT_DATA_ALL_2.csv'\n",
    "non_imputed = 'filename_2.txt'"
   ]
  },
  {
   "cell_type": "code",
   "execution_count": 310,
   "metadata": {
    "collapsed": true
   },
   "outputs": [],
   "source": [
    "#merged = np.genfromtxt(imputed, delimiter='\\t')\n",
    "merged = pd.read_csv(imputed, sep='\\t', )\n",
    "labels = pd.read_csv('OLD_DATA/data_clinical_sample_clean.tsv', sep='\\t')"
   ]
  },
  {
   "cell_type": "code",
   "execution_count": 311,
   "metadata": {
    "collapsed": true
   },
   "outputs": [],
   "source": [
    "labels.set_index('SAMPLE_ID', inplace=True)\n",
    "labels.drop(['Unnamed: 0'], axis=1, inplace=True)"
   ]
  },
  {
   "cell_type": "code",
   "execution_count": 312,
   "metadata": {},
   "outputs": [
    {
     "name": "stderr",
     "output_type": "stream",
     "text": [
      "/Users/egeozin/miniconda2/envs/mm-env/lib/python3.5/site-packages/pandas/core/indexes/range.py:433: RuntimeWarning: unorderable types: int() < str(), sort order is undefined for incomparable objects\n",
      "  return self._int64index.union(other)\n"
     ]
    }
   ],
   "source": [
    "merged.drop('PATIENT_ID', axis=1,inplace=True)\n",
    "merged.drop('SAMPLE_ID', axis=1,inplace=True)\n",
    "merged.drop(['Unnamed: 0'], axis=1,inplace=True)\n",
    "#merged = merged.transpose()\n",
    "\n",
    "labels = labels['ONCOTREE_CODE']\n",
    "result = pd.concat([merged, labels], axis=1)\n",
    "\n",
    "#labels = result['ONCOTREE_CODE']\n",
    "#labels.columns.values[1] = 'c'"
   ]
  },
  {
   "cell_type": "code",
   "execution_count": 313,
   "metadata": {
    "collapsed": true
   },
   "outputs": [],
   "source": [
    "random_indices = np.random.permutation(len(X))"
   ]
  },
  {
   "cell_type": "code",
   "execution_count": 314,
   "metadata": {
    "collapsed": true
   },
   "outputs": [],
   "source": [
    "X_randomized = merged.iloc[random_indices]\n",
    "Y_randomized = labels[:-1].iloc[random_indices]"
   ]
  },
  {
   "cell_type": "code",
   "execution_count": 315,
   "metadata": {
    "collapsed": true
   },
   "outputs": [],
   "source": [
    "X = X_randomized.as_matrix() \n",
    "Y = Y_randomized"
   ]
  },
  {
   "cell_type": "code",
   "execution_count": 286,
   "metadata": {
    "collapsed": true
   },
   "outputs": [
    {
     "data": {
      "text/plain": [
       "SAMPLE_ID\n",
       "MBC-MBCProject_BOHWtZT8-Tumor-SM-CGLQF    0\n",
       "MBC-MBCProject_AqtYu0IW-Tumor-SM-DL4Y4    1\n",
       "MBC-MBCProject_rmSBIguN-Tumor-SM-DL3N8    2\n",
       "MBC-MBCProject_ePi1smiM-Tumor-SM-CGMFX    1\n",
       "MBC-MBCProject_p1CQTdIg-Tumor-SM-CGL36    1\n",
       "MBC-MBCProject_AqtYu0IW-Tumor-SM-DL3YJ    0\n",
       "MBC-MBCProject_9JI1fwuX-Tumor-SM-DL4TP    1\n",
       "MBC-MBCProject_K7f6fdUz-Tumor-SM-AZ5MA    0\n",
       "MBC-MBCProject_ZdudUNFZ-Tumor-SM-CGLPS    1\n",
       "MBC-MBCProject_kwS1CXSR-Tumor-SM-DL4SG    0\n",
       "MBC-MBCProject_xBfJfri9-Tumor-SM-CGL4F    2\n",
       "MBC-MBCProject_O8u9SjuW-Tumor-SM-AZ5O6    1\n",
       "MBC-MBCProject_rJHBiKTl-Tumor-SM-DL3K3    1\n",
       "MBC-MBCProject_kduys9h5-Tumor-SM-DL46G    1\n",
       "MBC-MBCProject_epUYsdCE-Tumor-SM-DL3A1    1\n",
       "MBC-MBCProject_jEhBHrS2-Tumor-SM-CGKTZ    1\n",
       "MBC-MBCProject_wKuZuQS1-Tumor-SM-CGLW3    1\n",
       "MBC-MBCProject_QbiZiytx-Tumor-SM-CGM9N    2\n",
       "MBC-MBCProject_GouMi0U1-Tumor-SM-DL3KP    1\n",
       "MBC-MBCProject_zyt5TKFB-Tumor-SM-CGM59    1\n",
       "MBC-MBCProject_KphMt4F9-Tumor-SM-DL4PB    0\n",
       "MBC-MBCProject_7XFmtytw-Tumor-SM-DL457    1\n",
       "MBC-MBCProject_bvHXCoTY-Tumor-SM-DL3JG    1\n",
       "MBC-MBCProject_3LI1TNs3-Tumor-SM-DL43B    1\n",
       "MBC-MBCProject_27uAugT4-Tumor-SM-DL45T    1\n",
       "MBC-MBCProject_PXcjFYIo-Tumor-SM-DL3UR    1\n",
       "MBC-MBCProject_mrhKt1Ue-Tumor-SM-DL4UY    1\n",
       "MBC-MBCProject_kAFQF3t6-Tumor-SM-DL36W    2\n",
       "MBC-MBCProject_KGs1fxH2-Tumor-SM-CGLUT    2\n",
       "MBC-MBCProject_4MF1FlFQ-Tumor-SM-AZ5CU    1\n",
       "                                         ..\n",
       "MBC-MBCProject_zyt5TKFB-Tumor-SM-CGMBJ    1\n",
       "MBC-MBCProject_d5CbUNTb-Tumor-SM-CGM5V    1\n",
       "MBC-MBCProject_NDIbs9i6-Tumor-SM-DL4VL    3\n",
       "MBC-MBCProject_PXcjFYIo-Tumor-SM-DL3FO    1\n",
       "MBC-MBCProject_4MF1FlFQ-Tumor-SM-CGM4M    1\n",
       "MBC-MBCProject_N4srsKsr-Tumor-SM-CGLTK    3\n",
       "MBC-MBCProject_7JtRIPI2-Tumor-SM-CGMAW    3\n",
       "MBC-MBCProject_57iLiJIl-Tumor-SM-CGLIV    1\n",
       "MBC-MBCProject_RKf1frsr-Tumor-SM-AZ5L1    0\n",
       "MBC-MBCProject_Y7fYC1iG-Tumor-SM-CGLFQ    1\n",
       "MBC-MBCProject_PzUBH7I3-Tumor-SM-CGL52    1\n",
       "MBC-MBCProject_74CYIyHw-Tumor-SM-DL3P4    1\n",
       "MBC-MBCProject_rmSBIguN-Tumor-SM-DL385    0\n",
       "MBC-MBCProject_QbiZiytx-Tumor-SM-CGMH7    3\n",
       "MBC-MBCProject_DDUmIZuW-Tumor-SM-DL3GX    1\n",
       "MBC-MBCProject_7JtRIPI2-Tumor-SM-CGLXC    3\n",
       "MBC-MBCProject_GvHkH2Hk-Tumor-SM-AZ5HV    1\n",
       "MBC-MBCProject_ePi1smiM-Tumor-SM-AZ5OS    0\n",
       "MBC-MBCProject_gKsRsqTR-Tumor-SM-AZ5J5    1\n",
       "MBC-MBCProject_gotjfgf0-Tumor-SM-AXGPS    1\n",
       "MBC-MBCProject_BOHWtZT8-Tumor-SM-CGM6I    1\n",
       "MBC-MBCProject_ePi1smiM-Tumor-SM-CGLMN    1\n",
       "MBC-MBCProject_RKf1frsr-Tumor-SM-AZ5JR    1\n",
       "MBC-MBCProject_KphMt4F9-Tumor-SM-DL4RT    2\n",
       "MBC-MBCProject_wAiri7fp-Tumor-SM-AZ5DH    1\n",
       "MBC-MBCProject_K0UDUnFE-Tumor-SM-AZ5FD    0\n",
       "MBC-MBCProject_ePi1smiM-Tumor-SM-CGLOK    1\n",
       "MBC-MBCProject_pMcWcrtZ-Tumor-SM-AZ5KE    1\n",
       "MBC-MBCProject_PzUBH7I3-Tumor-SM-CGLNA    1\n",
       "MBC-MBCProject_RKf1frsr-Tumor-SM-CGLJI    1\n",
       "Name: ONCOTREE_CODE, Length: 102, dtype: int64"
      ]
     },
     "execution_count": 286,
     "metadata": {},
     "output_type": "execute_result"
    }
   ],
   "source": [
    "Y"
   ]
  },
  {
   "cell_type": "code",
   "execution_count": 316,
   "metadata": {
    "collapsed": true,
    "scrolled": true
   },
   "outputs": [],
   "source": [
    "X_train, y_train = X[:70], Y[:70]\n",
    "X_test, y_test = X[70:], Y[70:]"
   ]
  },
  {
   "cell_type": "code",
   "execution_count": 318,
   "metadata": {},
   "outputs": [
    {
     "data": {
      "text/plain": [
       "(70, 106)"
      ]
     },
     "execution_count": 318,
     "metadata": {},
     "output_type": "execute_result"
    }
   ],
   "source": [
    "X_train.shape"
   ]
  },
  {
   "cell_type": "code",
   "execution_count": 329,
   "metadata": {},
   "outputs": [
    {
     "name": "stdout",
     "output_type": "stream",
     "text": [
      "Dataset 2CN, train_samples=70, n_features=106, n_classes=4\n",
      "Using l1 regression\n",
      "[model=One versus Rest, solver=liblinear] Number of epochs: 1\n",
      "[model=One versus Rest, solver=liblinear] Number of epochs: 3\n",
      "Test accuracy for model ovr: 0.6250\n",
      "% non-zero coefficients for model ovr, per class:\n",
      " [ 26.41509434  29.24528302  19.81132075  22.64150943]\n",
      "Run time (3 epochs) for model ovr:0.00\n",
      "Example run in 0.089 s\n"
     ]
    },
    {
     "data": {
      "image/png": "[encoded data removed]",
      "text/plain": [
       "<matplotlib.figure.Figure at 0x10e805dd8>"
      ]
     },
     "metadata": {},
     "output_type": "display_data"
    }
   ],
   "source": [
    "# Turn down for faster run time\n",
    "\n",
    "n_samples = 10000\n",
    "\n",
    "t0 = time.clock()\n",
    "\n",
    "penalty = 'l1'\n",
    "\n",
    "train_samples, n_features = X_train.shape\n",
    "n_classes = np.unique(Y).shape[0]\n",
    "\n",
    "print('Dataset 2CN, train_samples=%i, n_features=%i, n_classes=%i'\n",
    "      % (train_samples, n_features, n_classes))\n",
    "\n",
    "models = {'ovr': {'name': 'One versus Rest', 'iters': [1, 3]},\n",
    "          'multinomial': {'name': 'Multinomial', 'iters': [1, 3, 7]}}\n",
    "\n",
    "# Solver which handles multiclass and l1 penalty\n",
    "solver = 'newton-cg'\n",
    "\n",
    "if penalty == 'l1':\n",
    "    print('Using l1 regression')\n",
    "    models = {'ovr': {'name': 'One versus Rest', 'iters': [1, 3]}}\n",
    "    solver = 'liblinear'\n",
    "    \n",
    "for model in models:\n",
    "    # Add initial chance-level values for plotting purpose\n",
    "    accuracies = [1 / n_classes]\n",
    "    times = [0]\n",
    "    densities = [1]\n",
    "\n",
    "    model_params = models[model]\n",
    "\n",
    "    # Small number of epochs for fast runtime\n",
    "    for this_max_iter in model_params['iters']:\n",
    "        print('[model=%s, solver=%s] Number of epochs: %s' %\n",
    "              (model_params['name'], solver, this_max_iter))\n",
    "        lr = LogisticRegression(solver=solver,\n",
    "                                multi_class=model,\n",
    "                                C=1,\n",
    "                                penalty=penalty,\n",
    "                                fit_intercept=True,\n",
    "                                max_iter=this_max_iter,\n",
    "                                random_state=42,\n",
    "                                )\n",
    "        t1 = time.clock()\n",
    "        lr.fit(X_train, y_train)\n",
    "        train_time = time.clock() - t1\n",
    "        times.append(train_time)\n",
    "\n",
    "        y_pred = lr.predict(X_test)\n",
    "        accuracy = np.sum(y_pred == y_test) / y_test.shape[0]\n",
    "        density = np.mean(lr.coef_ != 0, axis=1) * 100\n",
    "        accuracies.append(accuracy)\n",
    "        densities.append(density)\n",
    "        \n",
    "    models[model]['times'] = times\n",
    "    models[model]['densities'] = densities\n",
    "    models[model]['accuracies'] = accuracies\n",
    "    print('Test accuracy for model %s: %.4f' % (model, accuracies[-1]))\n",
    "    print('%% non-zero coefficients for model %s, '\n",
    "          'per class:\\n %s' % (model, densities[-1]))\n",
    "    print('Run time (%i epochs) for model %s:'\n",
    "          '%.2f' % (model_params['iters'][-1], model, times[-1]))\n",
    "\n",
    "fig = plt.figure()\n",
    "ax = fig.add_subplot(111)\n",
    "\n",
    "for model in models:\n",
    "    name = models[model]['name']\n",
    "    times = models[model]['times']\n",
    "    accuracies = models[model]['accuracies']\n",
    "    ax.plot(times, accuracies, marker='o',\n",
    "            label='Model: %s' % name)\n",
    "    ax.set_xlabel('Train time (s)')\n",
    "    ax.set_ylabel('Test accuracy')\n",
    "ax.legend()\n",
    "fig.suptitle('Multinomial vs One-vs-Rest Logistic L1\\n'\n",
    "             'Dataset %s' % '20newsgroups')\n",
    "fig.tight_layout()\n",
    "fig.subplots_adjust(top=0.85)\n",
    "run_time = time.clock() - t0\n",
    "print('Example run in %.3f s' % run_time)\n",
    "plt.show()"
   ]
  },
  {
   "cell_type": "code",
   "execution_count": 330,
   "metadata": {},
   "outputs": [
    {
     "data": {
      "text/plain": [
       "[0, 0.0012359999999986826, 0.0008610000000004447]"
      ]
     },
     "execution_count": 330,
     "metadata": {},
     "output_type": "execute_result"
    }
   ],
   "source": [
    "times"
   ]
  },
  {
   "cell_type": "code",
   "execution_count": null,
   "metadata": {
    "collapsed": true
   },
   "outputs": [],
   "source": []
  }
 ],
 "metadata": {
  "kernelspec": {
   "display_name": "Python 3",
   "language": "python",
   "name": "python3"
  },
  "language_info": {
   "codemirror_mode": {
    "name": "ipython",
    "version": 3
   },
   "file_extension": ".py",
   "mimetype": "text/x-python",
   "name": "python",
   "nbconvert_exporter": "python",
   "pygments_lexer": "ipython3",
   "version": "3.5.0"
  }
 },
 "nbformat": 4,
 "nbformat_minor": 2
}
