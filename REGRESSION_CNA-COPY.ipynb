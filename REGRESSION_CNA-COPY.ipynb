{
 "cells": [
  {
   "cell_type": "code",
   "execution_count": 2,
   "metadata": {},
   "outputs": [
    {
     "data": {
      "text/html": [
       "<script>requirejs.config({paths: { 'plotly': ['https://cdn.plot.ly/plotly-latest.min']},});if(!window.Plotly) {{require(['plotly'],function(plotly) {window.Plotly=plotly;});}}</script>"
      ],
      "text/plain": [
       "<IPython.core.display.HTML object>"
      ]
     },
     "metadata": {},
     "output_type": "display_data"
    }
   ],
   "source": [
    "import numpy as np\n",
    "import pandas as pd\n",
    "import math\n",
    "from sklearn.preprocessing import StandardScaler\n",
    "from sklearn.decomposition import TruncatedSVD\n",
    "from sklearn import decomposition\n",
    "from sklearn.linear_model import LogisticRegression\n",
    "from sklearn.linear_model import ElasticNet\n",
    "from matplotlib import pyplot as plt\n",
    "import matplotlib.style as style\n",
    "\n",
    "import plotly\n",
    "from plotly.offline import init_notebook_mode, iplot\n",
    "init_notebook_mode(connected=True)\n",
    "plotly.plotly.sign_in('spersad', 'oNkuP1yzbpN734Ag8M9P')\n",
    "import plotly.graph_objs as go\n",
    "\n",
    "from IPython.core.display import display, HTML\n"
   ]
  },
  {
   "cell_type": "code",
   "execution_count": 3,
   "metadata": {},
   "outputs": [
    {
     "name": "stdout",
     "output_type": "stream",
     "text": [
      "(103, 23109)\n"
     ]
    }
   ],
   "source": [
    "\n",
    "data = pd.read_csv('data_CNA.xls.txt',sep='\\t')\n",
    "labels= pd.read_csv('OLD_DATA/data_clinical_sample_clean.tsv',sep='\\t')\n",
    "\n",
    "data.set_index('Hugo_Symbol', inplace=True)\n",
    "labels.set_index('SAMPLE_ID', inplace=True)\n",
    "\n",
    "data.drop(['Entrez_Gene_Id'], axis=1,inplace=True)\n",
    "labels.drop(['Unnamed: 0'], axis=1,inplace=True)\n",
    "data = data.transpose() # Convert data to matrix, rows are tumour samples\n",
    "\n",
    "labels = labels['ONCOTREE_CODE']\n",
    "result = pd.concat([data, labels], axis=1)\n",
    "result.head()\n",
    "\n",
    "labels=result['ONCOTREE_CODE']\n",
    "\n",
    "X = data.as_matrix() \n",
    "Y = labels\n",
    "\n",
    "print(X.shape)"
   ]
  },
  {
   "cell_type": "code",
   "execution_count": 121,
   "metadata": {
    "scrolled": false
   },
   "outputs": [],
   "source": [
    "from sklearn.linear_model import LogisticRegression\n",
    "from sklearn.model_selection import train_test_split\n",
    "\n",
    "import time\n",
    "\n",
    "randomize = False\n",
    "if randomize:\n",
    "    random_indices = np.random.permutation(len(X))\n",
    "    # Randomized data\n",
    "    X_r = X[random_indices]\n",
    "    Y_r = Y[random_indices]\n",
    "\n",
    "\n",
    "def run_regression(X_r, Y_r, penalty = 'l2', per_train=0.6, per_val=0.1):\n",
    "    \n",
    "    # Select a training, test and validation set\n",
    "\n",
    "    n_train = int(per_train*X.shape[0])\n",
    "    n_val = int(per_val*X.shape[0])\n",
    "\n",
    "\n",
    "    X_train, y_train = X_r[:n_train], Y_r[:n_train]\n",
    "    X_val, y_val = X_r[n_train:n_train+n_val], Y_r[n_train:n_train+n_val]\n",
    "    X_test, y_test = X_r[n_train+n_val:], Y_r[n_train+n_val:]\n",
    "\n",
    "    # How many of each cancer type are in the train, test and validations set?\n",
    "    tr_count = y_train.value_counts()/np.sum( y_train.value_counts())\n",
    "    val_count = y_val.value_counts()/np.sum(y_val.value_counts())\n",
    "    te_count = y_test.value_counts()/np.sum(y_test.value_counts())\n",
    "\n",
    "\n",
    "    # Plot the distribution of test, train and val points. Will throw a KeyError if any\n",
    "    try:\n",
    "        trace1 = go.Bar(\n",
    "            x=['BREAST','IDC', 'MDLC', 'ILC'],\n",
    "            y=[tr_count[i] for i in range(4)],\n",
    "            name='Training Set'\n",
    "        )\n",
    "        trace2 = go.Bar(\n",
    "            x=['BREAST','IDC', 'MDLC', 'ILC'],\n",
    "            y=[val_count[i] for i in range(4)],\n",
    "            name='Validation Set'\n",
    "        )\n",
    "\n",
    "        trace3 = go.Bar(\n",
    "            x=['BREAST','IDC', 'MDLC', 'ILC'],\n",
    "            y=[te_count[i] for i in range(4)],\n",
    "            name='Test Set'\n",
    "        )\n",
    "\n",
    "        data = [trace1, trace2, trace3]\n",
    "        layout = go.Layout(\n",
    "            barmode='group',\n",
    "            title = 'Distribution of Categories over Data Sets',\n",
    "            xaxis = dict(title = 'Categories'),\n",
    "            yaxis = dict(title = 'Percentage of Data Set'),\n",
    "        )\n",
    "\n",
    "        fig = go.Figure(data=data, layout=layout)\n",
    "        iplot(fig, filename='grouped-bar')\n",
    "\n",
    "    except KeyError:\n",
    "        print(tr_count)\n",
    "        print(val_count)\n",
    "        print(te_count)\n",
    "        print('One of the data sets does not contain all the categories!')\n",
    "        assert False\n",
    "\n",
    "\n",
    "    t0 = time.clock()\n",
    "\n",
    "    train_samples, n_features = X_train.shape\n",
    "    n_classes = np.unique(Y).shape[0]\n",
    "\n",
    "    print('Dataset 2CN, train_samples=%i, n_features=%i, n_classes=%i'\n",
    "          % (train_samples, n_features, n_classes))\n",
    "\n",
    "    models = {'ovr': {'name': 'One versus Rest', 'iters': [1, 3, 7, 11, 13, 15]},\n",
    "              'multinomial': {'name': 'Multinomial', 'iters': [1, 3, 7, 11, 13, 15]}}\n",
    "\n",
    "    # Solver which handles multiclass and l1 penalty\n",
    "    solver = 'newton-cg'\n",
    "\n",
    "    if penalty == 'l1':\n",
    "        print('Using l1 regression')\n",
    "        models = {'ovr': {'name': 'One versus Rest', 'iters': [1, 3, 7, 11, 13, 15]}}\n",
    "        solver = 'liblinear'\n",
    "\n",
    "    best_val_accuracy = 0\n",
    "    best_model = None \n",
    "    \n",
    "    for model in models:\n",
    "        # Add initial chance-level values for plotting purpose\n",
    "        test_accuracies = [1 / n_classes]\n",
    "        tr_accuracies = [1/n_classes]\n",
    "        val_accuracies = [1/n_classes]\n",
    "        times = [0]\n",
    "        densities = [1]\n",
    "\n",
    "        model_params = models[model]\n",
    "\n",
    "        # Small number of epochs for fast runtime\n",
    "        for this_max_iter in model_params['iters']:\n",
    "            print('[model=%s, solver=%s] Number of epochs: %s' %\n",
    "                  (model_params['name'], solver, this_max_iter))\n",
    "            lr = LogisticRegression(solver=solver,\n",
    "                                    multi_class=model,\n",
    "                                    C=1,\n",
    "                                    penalty=penalty,\n",
    "                                    fit_intercept=True,\n",
    "                                    max_iter=this_max_iter,\n",
    "                                    random_state=42,\n",
    "                                    )\n",
    "            t1 = time.clock()\n",
    "            lr.fit(X_train, y_train)\n",
    "            train_time = time.clock() - t1\n",
    "\n",
    "            y_pred = lr.predict(X_test)\n",
    "            accuracy = np.sum(y_pred == y_test) / y_test.shape[0]\n",
    "            density = np.mean(lr.coef_ != 0, axis=1) * 100\n",
    "            tr_accuracy = np.sum(y_train == lr.predict(X_train)) / y_train.shape[0]\n",
    "            val_accuracy = np.sum(y_val == lr.predict(X_val)) / y_val.shape[0]\n",
    "\n",
    "            test_accuracies.append(accuracy)\n",
    "            densities.append(density)\n",
    "            tr_accuracies.append(tr_accuracy)\n",
    "            val_accuracies.append(val_accuracy)\n",
    "            times.append(this_max_iter)\n",
    "            \n",
    "            if val_accuracy>best_val_accuracy:\n",
    "                best_model = lr\n",
    "                \n",
    "        models[model]['times'] = times\n",
    "        models[model]['densities'] = densities\n",
    "        models[model]['test_accuracies'] = test_accuracies\n",
    "        models[model]['tr_accuracies'] = tr_accuracies\n",
    "        models[model]['val_accuracies'] = val_accuracies\n",
    "\n",
    "        print('Test accuracy for model %s: %.4f' % (model, test_accuracies[-1]))\n",
    "        print('Train accuracy for model %s: %.4f' % (model, tr_accuracies[-1]))\n",
    "        print('Validation accuracy for model %s: %.4f' % (model, val_accuracies[-1]))\n",
    "        print('%% non-zero coefficients for model %s, '\n",
    "              'per class:\\n %s' % (model, densities[-1]))\n",
    "        print('Run time (%i epochs) for model %s:'\n",
    "              '%.2f' % (model_params['iters'][-1], model, times[-1]))\n",
    "\n",
    "    fig = plt.figure()\n",
    "    ax = fig.add_subplot(111)\n",
    "\n",
    "    for model in models:\n",
    "        data = []\n",
    "        for accuracy in ['tr_accuracies', 'val_accuracies','test_accuracies']:\n",
    "            trace = go.Scatter(\n",
    "                                x = models[model]['times'],\n",
    "                                y = models[model][accuracy],\n",
    "                                name = accuracy\n",
    "                            )\n",
    "\n",
    "            data.append(trace)\n",
    "        layout = go.Layout(\n",
    "            title = 'Accuracy for {0} model'.format(model),\n",
    "            xaxis = dict(title = 'Iterations'),\n",
    "            yaxis = dict(title = 'Accuracy'),\n",
    "        )\n",
    "\n",
    "        fig = go.Figure(data=data, layout=layout)\n",
    "        iplot(fig)\n",
    "\n",
    "    run_time = time.clock() - t0\n",
    "    print('Example run in %.3f s' % run_time)\n",
    "\n",
    "    from sklearn.metrics import confusion_matrix\n",
    "    c = confusion_matrix(y_test, best_model.predict(X_test))\n",
    "\n",
    "    trace = go.Heatmap(z=(c.T/np.sum(c,axis=1)).T,                   \n",
    "                       x=['BREAST','IDC', 'MDLC', 'ILC'],\n",
    "                       y=['BREAST','IDC', 'MDLC', 'ILC'])\n",
    "    data=[trace]\n",
    "\n",
    "    layout = go.Layout(\n",
    "        title = 'Confusion Matrix for Test Predictions',\n",
    "        xaxis = dict(title = 'Predicted'),\n",
    "        yaxis = dict(title = 'Truth'),\n",
    "    )\n",
    "\n",
    "    fig = go.Figure(data=data, layout=layout)\n",
    "    iplot(fig)\n",
    "    \n",
    "    c = confusion_matrix(y_train, best_model.predict(X_train))\n",
    "    trace = go.Heatmap(z=(c.T/np.sum(c,axis=1)).T,                   \n",
    "                       x=['BREAST','IDC', 'MDLC', 'ILC'],\n",
    "                       y=['BREAST','IDC', 'MDLC', 'ILC'])\n",
    "    data=[trace]\n",
    "\n",
    "    layout = go.Layout(\n",
    "        title = 'Confusion Matrix for Training Predictions',\n",
    "        xaxis = dict(title = 'Predicted'),\n",
    "        yaxis = dict(title = 'Truth'),\n",
    "    )\n",
    "\n",
    "    fig = go.Figure(data=data, layout=layout)\n",
    "    iplot(fig)\n",
    "\n",
    "\n",
    "    return best_model, lr\n"
   ]
  },
  {
   "cell_type": "code",
   "execution_count": 103,
   "metadata": {
    "scrolled": false
   },
   "outputs": [
    {
     "data": {
      "text/html": [
       "<div id=\"9c64868b-9373-4c50-a24a-f46873858909\" style=\"height: 525px; width: 100%;\" class=\"plotly-graph-div\"></div><script type=\"text/javascript\">require([\"plotly\"], function(Plotly) { window.PLOTLYENV=window.PLOTLYENV || {};window.PLOTLYENV.BASE_URL=\"https://plot.ly\";Plotly.newPlot(\"9c64868b-9373-4c50-a24a-f46873858909\", [{\"name\": \"Training Set\", \"y\": [0.17647058823529413, 0.6470588235294118, 0.09803921568627451, 0.0784313725490196], \"type\": \"bar\", \"x\": [\"BREAST\", \"IDC\", \"MDLC\", \"ILC\"]}, {\"name\": \"Validation Set\", \"y\": [0.1, 0.7, 0.1, 0.1], \"type\": \"bar\", \"x\": [\"BREAST\", \"IDC\", \"MDLC\", \"ILC\"]}, {\"name\": \"Test Set\", \"y\": [0.14285714285714285, 0.6428571428571429, 0.11904761904761904, 0.09523809523809523], \"type\": \"bar\", \"x\": [\"BREAST\", \"IDC\", \"MDLC\", \"ILC\"]}], {\"yaxis\": {\"title\": \"Percentage of Data Set\"}, \"xaxis\": {\"title\": \"Categories\"}, \"barmode\": \"group\", \"title\": \"Distribution of Categories over Data Sets\"}, {\"linkText\": \"Export to plot.ly\", \"showLink\": true})});</script>"
      ],
      "text/plain": [
       "<IPython.core.display.HTML object>"
      ]
     },
     "metadata": {},
     "output_type": "display_data"
    },
    {
     "name": "stdout",
     "output_type": "stream",
     "text": [
      "Dataset 2CN, train_samples=51, n_features=23109, n_classes=4\n",
      "[model=One versus Rest, solver=newton-cg] Number of epochs: 1\n",
      "[model=One versus Rest, solver=newton-cg] Number of epochs: 3\n"
     ]
    },
    {
     "name": "stderr",
     "output_type": "stream",
     "text": [
      "C:\\Users\\Sitara\\Anaconda3\\lib\\site-packages\\sklearn\\utils\\optimize.py:203: ConvergenceWarning:\n",
      "\n",
      "newton-cg failed to converge. Increase the number of iterations.\n",
      "\n"
     ]
    },
    {
     "name": "stdout",
     "output_type": "stream",
     "text": [
      "[model=One versus Rest, solver=newton-cg] Number of epochs: 7\n",
      "[model=One versus Rest, solver=newton-cg] Number of epochs: 11\n",
      "[model=One versus Rest, solver=newton-cg] Number of epochs: 13\n",
      "[model=One versus Rest, solver=newton-cg] Number of epochs: 15\n",
      "Test accuracy for model ovr: 0.5952\n",
      "Train accuracy for model ovr: 1.0000\n",
      "Validation accuracy for model ovr: 0.7000\n",
      "% non-zero coefficients for model ovr, per class:\n",
      " [ 100.  100.  100.  100.]\n",
      "Run time (15 epochs) for model ovr:15.00\n",
      "[model=Multinomial, solver=newton-cg] Number of epochs: 1\n",
      "[model=Multinomial, solver=newton-cg] Number of epochs: 3\n",
      "[model=Multinomial, solver=newton-cg] Number of epochs: 7\n",
      "[model=Multinomial, solver=newton-cg] Number of epochs: 11\n",
      "[model=Multinomial, solver=newton-cg] Number of epochs: 13\n",
      "[model=Multinomial, solver=newton-cg] Number of epochs: 15\n",
      "Test accuracy for model multinomial: 0.5952\n",
      "Train accuracy for model multinomial: 1.0000\n",
      "Validation accuracy for model multinomial: 0.7000\n",
      "% non-zero coefficients for model multinomial, per class:\n",
      " [ 100.  100.  100.  100.]\n",
      "Run time (15 epochs) for model multinomial:15.00\n"
     ]
    },
    {
     "name": "stderr",
     "output_type": "stream",
     "text": [
      "C:\\Users\\Sitara\\Anaconda3\\lib\\site-packages\\matplotlib\\pyplot.py:524: RuntimeWarning:\n",
      "\n",
      "More than 20 figures have been opened. Figures created through the pyplot interface (`matplotlib.pyplot.figure`) are retained until explicitly closed and may consume too much memory. (To control this warning, see the rcParam `figure.max_open_warning`).\n",
      "\n"
     ]
    },
    {
     "data": {
      "text/html": [
       "<div id=\"0e645c93-760d-4e9c-a8ea-2d2a56f6b74e\" style=\"height: 525px; width: 100%;\" class=\"plotly-graph-div\"></div><script type=\"text/javascript\">require([\"plotly\"], function(Plotly) { window.PLOTLYENV=window.PLOTLYENV || {};window.PLOTLYENV.BASE_URL=\"https://plot.ly\";Plotly.newPlot(\"0e645c93-760d-4e9c-a8ea-2d2a56f6b74e\", [{\"name\": \"tr_accuracies\", \"y\": [0.25, 0.7843137254901961, 1.0, 1.0, 1.0, 1.0, 1.0], \"type\": \"scatter\", \"x\": [0, 1, 3, 7, 11, 13, 15]}, {\"name\": \"val_accuracies\", \"y\": [0.25, 0.7, 0.7, 0.7, 0.7, 0.7, 0.7], \"type\": \"scatter\", \"x\": [0, 1, 3, 7, 11, 13, 15]}, {\"name\": \"test_accuracies\", \"y\": [0.25, 0.6428571428571429, 0.5, 0.5, 0.5952380952380952, 0.5952380952380952, 0.5952380952380952], \"type\": \"scatter\", \"x\": [0, 1, 3, 7, 11, 13, 15]}], {\"yaxis\": {\"title\": \"Accuracy\"}, \"xaxis\": {\"title\": \"Iterations\"}, \"title\": \"Accuracy for ovr model\"}, {\"linkText\": \"Export to plot.ly\", \"showLink\": true})});</script>"
      ],
      "text/plain": [
       "<IPython.core.display.HTML object>"
      ]
     },
     "metadata": {},
     "output_type": "display_data"
    },
    {
     "data": {
      "text/html": [
       "<div id=\"ec8e5817-662b-468e-b54f-27326354c682\" style=\"height: 525px; width: 100%;\" class=\"plotly-graph-div\"></div><script type=\"text/javascript\">require([\"plotly\"], function(Plotly) { window.PLOTLYENV=window.PLOTLYENV || {};window.PLOTLYENV.BASE_URL=\"https://plot.ly\";Plotly.newPlot(\"ec8e5817-662b-468e-b54f-27326354c682\", [{\"name\": \"tr_accuracies\", \"y\": [0.25, 0.6470588235294118, 1.0, 1.0, 1.0, 1.0, 1.0], \"type\": \"scatter\", \"x\": [0, 1, 3, 7, 11, 13, 15]}, {\"name\": \"val_accuracies\", \"y\": [0.25, 0.7, 0.7, 0.7, 0.7, 0.7, 0.7], \"type\": \"scatter\", \"x\": [0, 1, 3, 7, 11, 13, 15]}, {\"name\": \"test_accuracies\", \"y\": [0.25, 0.6428571428571429, 0.5, 0.5238095238095238, 0.5952380952380952, 0.5952380952380952, 0.5952380952380952], \"type\": \"scatter\", \"x\": [0, 1, 3, 7, 11, 13, 15]}], {\"yaxis\": {\"title\": \"Accuracy\"}, \"xaxis\": {\"title\": \"Iterations\"}, \"title\": \"Accuracy for multinomial model\"}, {\"linkText\": \"Export to plot.ly\", \"showLink\": true})});</script>"
      ],
      "text/plain": [
       "<IPython.core.display.HTML object>"
      ]
     },
     "metadata": {},
     "output_type": "display_data"
    },
    {
     "name": "stdout",
     "output_type": "stream",
     "text": [
      "Example run in 6.388 s\n"
     ]
    },
    {
     "data": {
      "text/html": [
       "<div id=\"3c3d3a8e-ec92-4c81-98e6-86e08824a88b\" style=\"height: 525px; width: 100%;\" class=\"plotly-graph-div\"></div><script type=\"text/javascript\">require([\"plotly\"], function(Plotly) { window.PLOTLYENV=window.PLOTLYENV || {};window.PLOTLYENV.BASE_URL=\"https://plot.ly\";Plotly.newPlot(\"3c3d3a8e-ec92-4c81-98e6-86e08824a88b\", [{\"y\": [\"BREAST\", \"IDC\", \"MDLC\", \"ILC\"], \"type\": \"heatmap\", \"x\": [\"BREAST\", \"IDC\", \"MDLC\", \"ILC\"], \"z\": [[0.16666666666666666, 0.8333333333333334, 0.0, 0.0], [0.037037037037037035, 0.8888888888888888, 0.037037037037037035, 0.037037037037037035], [0.0, 1.0, 0.0, 0.0], [0.0, 1.0, 0.0, 0.0]]}], {\"yaxis\": {\"title\": \"Truth\"}, \"xaxis\": {\"title\": \"Predicted\"}, \"title\": \"Confusion Matrix for Test Predictions\"}, {\"linkText\": \"Export to plot.ly\", \"showLink\": true})});</script>"
      ],
      "text/plain": [
       "<IPython.core.display.HTML object>"
      ]
     },
     "metadata": {},
     "output_type": "display_data"
    },
    {
     "data": {
      "text/html": [
       "<div id=\"f1c6f171-5b9c-4dc0-970a-6c8558c2b4a4\" style=\"height: 525px; width: 100%;\" class=\"plotly-graph-div\"></div><script type=\"text/javascript\">require([\"plotly\"], function(Plotly) { window.PLOTLYENV=window.PLOTLYENV || {};window.PLOTLYENV.BASE_URL=\"https://plot.ly\";Plotly.newPlot(\"f1c6f171-5b9c-4dc0-970a-6c8558c2b4a4\", [{\"y\": [\"BREAST\", \"IDC\", \"MDLC\", \"ILC\"], \"type\": \"heatmap\", \"x\": [\"BREAST\", \"IDC\", \"MDLC\", \"ILC\"], \"z\": [[1.0, 0.0, 0.0, 0.0], [0.0, 1.0, 0.0, 0.0], [0.0, 0.0, 1.0, 0.0], [0.0, 0.0, 0.0, 1.0]]}], {\"yaxis\": {\"title\": \"Truth\"}, \"xaxis\": {\"title\": \"Predicted\"}, \"title\": \"Confusion Matrix for Training Predictions\"}, {\"linkText\": \"Export to plot.ly\", \"showLink\": true})});</script>"
      ],
      "text/plain": [
       "<IPython.core.display.HTML object>"
      ]
     },
     "metadata": {},
     "output_type": "display_data"
    }
   ],
   "source": [
    "lr, last = run_regression(X_r, Y_r, penalty = 'l2')"
   ]
  },
  {
   "cell_type": "code",
   "execution_count": 101,
   "metadata": {
    "scrolled": false
   },
   "outputs": [
    {
     "data": {
      "text/html": [
       "<div id=\"eb0c41c7-c51e-431e-904f-63a419bb908d\" style=\"height: 525px; width: 100%;\" class=\"plotly-graph-div\"></div><script type=\"text/javascript\">require([\"plotly\"], function(Plotly) { window.PLOTLYENV=window.PLOTLYENV || {};window.PLOTLYENV.BASE_URL=\"https://plot.ly\";Plotly.newPlot(\"eb0c41c7-c51e-431e-904f-63a419bb908d\", [{\"name\": \"Training Set\", \"y\": [0.17647058823529413, 0.6470588235294118, 0.09803921568627451, 0.0784313725490196], \"type\": \"bar\", \"x\": [\"BREAST\", \"IDC\", \"MDLC\", \"ILC\"]}, {\"name\": \"Validation Set\", \"y\": [0.1, 0.7, 0.1, 0.1], \"type\": \"bar\", \"x\": [\"BREAST\", \"IDC\", \"MDLC\", \"ILC\"]}, {\"name\": \"Test Set\", \"y\": [0.14285714285714285, 0.6428571428571429, 0.11904761904761904, 0.09523809523809523], \"type\": \"bar\", \"x\": [\"BREAST\", \"IDC\", \"MDLC\", \"ILC\"]}], {\"yaxis\": {\"title\": \"Percentage of Data Set\"}, \"xaxis\": {\"title\": \"Categories\"}, \"barmode\": \"group\", \"title\": \"Distribution of Categories over Data Sets\"}, {\"linkText\": \"Export to plot.ly\", \"showLink\": true})});</script>"
      ],
      "text/plain": [
       "<IPython.core.display.HTML object>"
      ]
     },
     "metadata": {},
     "output_type": "display_data"
    },
    {
     "name": "stdout",
     "output_type": "stream",
     "text": [
      "Dataset 2CN, train_samples=51, n_features=23109, n_classes=4\n",
      "Using l1 regression\n",
      "[model=One versus Rest, solver=liblinear] Number of epochs: 1\n",
      "[model=One versus Rest, solver=liblinear] Number of epochs: 3\n",
      "[model=One versus Rest, solver=liblinear] Number of epochs: 7\n",
      "[model=One versus Rest, solver=liblinear] Number of epochs: 11\n",
      "[model=One versus Rest, solver=liblinear] Number of epochs: 13\n",
      "[model=One versus Rest, solver=liblinear] Number of epochs: 15\n",
      "Test accuracy for model ovr: 0.5000\n",
      "Train accuracy for model ovr: 1.0000\n",
      "Validation accuracy for model ovr: 0.7000\n",
      "% non-zero coefficients for model ovr, per class:\n",
      " [ 0.30291229  0.2120386   0.18607469  0.22934787]\n",
      "Run time (15 epochs) for model ovr:15.00\n"
     ]
    },
    {
     "name": "stderr",
     "output_type": "stream",
     "text": [
      "C:\\Users\\Sitara\\Anaconda3\\lib\\site-packages\\matplotlib\\pyplot.py:524: RuntimeWarning:\n",
      "\n",
      "More than 20 figures have been opened. Figures created through the pyplot interface (`matplotlib.pyplot.figure`) are retained until explicitly closed and may consume too much memory. (To control this warning, see the rcParam `figure.max_open_warning`).\n",
      "\n"
     ]
    },
    {
     "data": {
      "text/html": [
       "<div id=\"b814bd1d-bc55-4792-bfc8-5f070629d7d5\" style=\"height: 525px; width: 100%;\" class=\"plotly-graph-div\"></div><script type=\"text/javascript\">require([\"plotly\"], function(Plotly) { window.PLOTLYENV=window.PLOTLYENV || {};window.PLOTLYENV.BASE_URL=\"https://plot.ly\";Plotly.newPlot(\"b814bd1d-bc55-4792-bfc8-5f070629d7d5\", [{\"name\": \"tr_accuracies\", \"y\": [0.25, 1.0, 1.0, 1.0, 1.0, 1.0, 1.0], \"type\": \"scatter\", \"x\": [0, 1, 3, 7, 11, 13, 15]}, {\"name\": \"val_accuracies\", \"y\": [0.25, 0.8, 0.7, 0.7, 0.7, 0.7, 0.7], \"type\": \"scatter\", \"x\": [0, 1, 3, 7, 11, 13, 15]}, {\"name\": \"test_accuracies\", \"y\": [0.25, 0.5238095238095238, 0.5714285714285714, 0.5238095238095238, 0.5, 0.5, 0.5], \"type\": \"scatter\", \"x\": [0, 1, 3, 7, 11, 13, 15]}], {\"yaxis\": {\"title\": \"Accuracy\"}, \"xaxis\": {\"title\": \"Iterations\"}, \"title\": \"Accuracy for ovr model\"}, {\"linkText\": \"Export to plot.ly\", \"showLink\": true})});</script>"
      ],
      "text/plain": [
       "<IPython.core.display.HTML object>"
      ]
     },
     "metadata": {},
     "output_type": "display_data"
    },
    {
     "name": "stdout",
     "output_type": "stream",
     "text": [
      "Example run in 1.775 s\n"
     ]
    },
    {
     "data": {
      "text/html": [
       "<div id=\"bb9d8e39-1cb4-447a-973e-69cc7d76c93e\" style=\"height: 525px; width: 100%;\" class=\"plotly-graph-div\"></div><script type=\"text/javascript\">require([\"plotly\"], function(Plotly) { window.PLOTLYENV=window.PLOTLYENV || {};window.PLOTLYENV.BASE_URL=\"https://plot.ly\";Plotly.newPlot(\"bb9d8e39-1cb4-447a-973e-69cc7d76c93e\", [{\"y\": [\"BREAST\", \"IDC\", \"MDLC\", \"ILC\"], \"type\": \"heatmap\", \"x\": [\"BREAST\", \"IDC\", \"MDLC\", \"ILC\"], \"z\": [[0.0, 1.0, 0.0, 0.0], [0.1111111111111111, 0.7777777777777778, 0.037037037037037035, 0.07407407407407407], [0.2, 0.8, 0.0, 0.0], [0.0, 1.0, 0.0, 0.0]]}], {\"yaxis\": {\"title\": \"Truth\"}, \"xaxis\": {\"title\": \"Predicted\"}, \"title\": \"Confusion Matrix for Test Predictions\"}, {\"linkText\": \"Export to plot.ly\", \"showLink\": true})});</script>"
      ],
      "text/plain": [
       "<IPython.core.display.HTML object>"
      ]
     },
     "metadata": {},
     "output_type": "display_data"
    },
    {
     "data": {
      "text/html": [
       "<div id=\"3a6b429f-3c4e-4afd-9455-6aeda82e574e\" style=\"height: 525px; width: 100%;\" class=\"plotly-graph-div\"></div><script type=\"text/javascript\">require([\"plotly\"], function(Plotly) { window.PLOTLYENV=window.PLOTLYENV || {};window.PLOTLYENV.BASE_URL=\"https://plot.ly\";Plotly.newPlot(\"3a6b429f-3c4e-4afd-9455-6aeda82e574e\", [{\"y\": [\"BREAST\", \"IDC\", \"MDLC\", \"ILC\"], \"type\": \"heatmap\", \"x\": [\"BREAST\", \"IDC\", \"MDLC\", \"ILC\"], \"z\": [[1.0, 0.0, 0.0, 0.0], [0.0, 1.0, 0.0, 0.0], [0.0, 0.0, 1.0, 0.0], [0.0, 0.0, 0.0, 1.0]]}], {\"yaxis\": {\"title\": \"Truth\"}, \"xaxis\": {\"title\": \"Predicted\"}, \"title\": \"Confusion Matrix for Training Predictions\"}, {\"linkText\": \"Export to plot.ly\", \"showLink\": true})});</script>"
      ],
      "text/plain": [
       "<IPython.core.display.HTML object>"
      ]
     },
     "metadata": {},
     "output_type": "display_data"
    }
   ],
   "source": [
    "lr = run_regression(X_r, Y_r, penalty = 'l1')"
   ]
  },
  {
   "cell_type": "code",
   "execution_count": 106,
   "metadata": {},
   "outputs": [
    {
     "name": "stderr",
     "output_type": "stream",
     "text": [
      "C:\\Users\\Sitara\\Anaconda3\\lib\\site-packages\\pandas\\indexes\\range.py:432: RuntimeWarning:\n",
      "\n",
      "unorderable types: int() < str(), sort order is undefined for incomparable objects\n",
      "\n"
     ]
    }
   ],
   "source": [
    "imputed = 'PATIENT_DATA_ALL_2.csv'\n",
    "non_imputed = 'filename_2.txt'\n",
    "\n",
    "merged = pd.read_csv(imputed, sep='\\t', )\n",
    "labels = pd.read_csv('OLD_DATA/data_clinical_sample_clean.tsv', sep='\\t')\n",
    "\n",
    "labels.set_index('SAMPLE_ID', inplace=True)\n",
    "labels.drop(['Unnamed: 0'], axis=1, inplace=True)\n",
    "\n",
    "merged.drop('PATIENT_ID', axis=1,inplace=True)\n",
    "merged.drop('SAMPLE_ID', axis=1,inplace=True)\n",
    "merged.drop(['Unnamed: 0'], axis=1,inplace=True)\n",
    "\n",
    "labels = labels['ONCOTREE_CODE']\n",
    "result = pd.concat([merged, labels], axis=1)\n"
   ]
  },
  {
   "cell_type": "code",
   "execution_count": 120,
   "metadata": {
    "scrolled": false
   },
   "outputs": [
    {
     "data": {
      "text/html": [
       "<div id=\"4bd204f9-43cb-4a3c-80ad-71c40d356056\" style=\"height: 525px; width: 100%;\" class=\"plotly-graph-div\"></div><script type=\"text/javascript\">require([\"plotly\"], function(Plotly) { window.PLOTLYENV=window.PLOTLYENV || {};window.PLOTLYENV.BASE_URL=\"https://plot.ly\";Plotly.newPlot(\"4bd204f9-43cb-4a3c-80ad-71c40d356056\", [{\"name\": \"Training Set\", \"y\": [0.09836065573770492, 0.6885245901639344, 0.09836065573770492, 0.11475409836065574], \"type\": \"bar\", \"x\": [\"BREAST\", \"IDC\", \"MDLC\", \"ILC\"]}, {\"name\": \"Validation Set\", \"y\": [0.3, 0.5, 0.1, 0.1], \"type\": \"bar\", \"x\": [\"BREAST\", \"IDC\", \"MDLC\", \"ILC\"]}, {\"name\": \"Test Set\", \"y\": [0.22580645161290322, 0.6129032258064516, 0.12903225806451613, 0.03225806451612903], \"type\": \"bar\", \"x\": [\"BREAST\", \"IDC\", \"MDLC\", \"ILC\"]}], {\"yaxis\": {\"title\": \"Percentage of Data Set\"}, \"xaxis\": {\"title\": \"Categories\"}, \"barmode\": \"group\", \"title\": \"Distribution of Categories over Data Sets\"}, {\"linkText\": \"Export to plot.ly\", \"showLink\": true})});</script>"
      ],
      "text/plain": [
       "<IPython.core.display.HTML object>"
      ]
     },
     "metadata": {},
     "output_type": "display_data"
    },
    {
     "name": "stdout",
     "output_type": "stream",
     "text": [
      "Dataset 2CN, train_samples=61, n_features=106, n_classes=4\n",
      "[model=One versus Rest, solver=newton-cg] Number of epochs: 1\n",
      "[model=One versus Rest, solver=newton-cg] Number of epochs: 3\n",
      "[model=One versus Rest, solver=newton-cg] Number of epochs: 7\n",
      "[model=One versus Rest, solver=newton-cg] Number of epochs: 11\n"
     ]
    },
    {
     "name": "stderr",
     "output_type": "stream",
     "text": [
      "C:\\Users\\Sitara\\Anaconda3\\lib\\site-packages\\sklearn\\utils\\optimize.py:203: ConvergenceWarning:\n",
      "\n",
      "newton-cg failed to converge. Increase the number of iterations.\n",
      "\n"
     ]
    },
    {
     "name": "stdout",
     "output_type": "stream",
     "text": [
      "[model=One versus Rest, solver=newton-cg] Number of epochs: 13\n",
      "[model=One versus Rest, solver=newton-cg] Number of epochs: 15\n",
      "Test accuracy for model ovr: 0.6129\n",
      "Train accuracy for model ovr: 0.7213\n",
      "Validation accuracy for model ovr: 0.5000\n",
      "% non-zero coefficients for model ovr, per class:\n",
      " [ 79.24528302  79.24528302  79.24528302  79.24528302]\n",
      "Run time (15 epochs) for model ovr:15.00\n",
      "[model=Multinomial, solver=newton-cg] Number of epochs: 1\n",
      "[model=Multinomial, solver=newton-cg] Number of epochs: 3\n",
      "[model=Multinomial, solver=newton-cg] Number of epochs: 7\n",
      "[model=Multinomial, solver=newton-cg] Number of epochs: 11\n",
      "[model=Multinomial, solver=newton-cg] Number of epochs: 13\n",
      "[model=Multinomial, solver=newton-cg] Number of epochs: 15\n",
      "Test accuracy for model multinomial: 0.6129\n",
      "Train accuracy for model multinomial: 0.7049\n",
      "Validation accuracy for model multinomial: 0.5000\n",
      "% non-zero coefficients for model multinomial, per class:\n",
      " [ 79.24528302  79.24528302  79.24528302  79.24528302]\n",
      "Run time (15 epochs) for model multinomial:15.00\n"
     ]
    },
    {
     "name": "stderr",
     "output_type": "stream",
     "text": [
      "C:\\Users\\Sitara\\Anaconda3\\lib\\site-packages\\matplotlib\\pyplot.py:524: RuntimeWarning:\n",
      "\n",
      "More than 20 figures have been opened. Figures created through the pyplot interface (`matplotlib.pyplot.figure`) are retained until explicitly closed and may consume too much memory. (To control this warning, see the rcParam `figure.max_open_warning`).\n",
      "\n"
     ]
    },
    {
     "data": {
      "text/html": [
       "<div id=\"1b1e451e-dd6a-4bac-af70-2fe73ac489a9\" style=\"height: 525px; width: 100%;\" class=\"plotly-graph-div\"></div><script type=\"text/javascript\">require([\"plotly\"], function(Plotly) { window.PLOTLYENV=window.PLOTLYENV || {};window.PLOTLYENV.BASE_URL=\"https://plot.ly\";Plotly.newPlot(\"1b1e451e-dd6a-4bac-af70-2fe73ac489a9\", [{\"name\": \"tr_accuracies\", \"y\": [0.25, 0.6885245901639344, 0.6229508196721312, 0.6885245901639344, 0.6885245901639344, 0.7213114754098361, 0.7213114754098361], \"type\": \"scatter\", \"x\": [0, 1, 3, 7, 11, 13, 15]}, {\"name\": \"val_accuracies\", \"y\": [0.25, 0.5, 0.2, 0.5, 0.5, 0.5, 0.5], \"type\": \"scatter\", \"x\": [0, 1, 3, 7, 11, 13, 15]}, {\"name\": \"test_accuracies\", \"y\": [0.25, 0.6129032258064516, 0.5483870967741935, 0.5806451612903226, 0.6129032258064516, 0.6129032258064516, 0.6129032258064516], \"type\": \"scatter\", \"x\": [0, 1, 3, 7, 11, 13, 15]}], {\"yaxis\": {\"title\": \"Accuracy\"}, \"xaxis\": {\"title\": \"Iterations\"}, \"title\": \"Accuracy for ovr model\"}, {\"linkText\": \"Export to plot.ly\", \"showLink\": true})});</script>"
      ],
      "text/plain": [
       "<IPython.core.display.HTML object>"
      ]
     },
     "metadata": {},
     "output_type": "display_data"
    },
    {
     "data": {
      "text/html": [
       "<div id=\"ea80543c-ebf6-411e-b9f4-a456c1db5b00\" style=\"height: 525px; width: 100%;\" class=\"plotly-graph-div\"></div><script type=\"text/javascript\">require([\"plotly\"], function(Plotly) { window.PLOTLYENV=window.PLOTLYENV || {};window.PLOTLYENV.BASE_URL=\"https://plot.ly\";Plotly.newPlot(\"ea80543c-ebf6-411e-b9f4-a456c1db5b00\", [{\"name\": \"tr_accuracies\", \"y\": [0.25, 0.6885245901639344, 0.6229508196721312, 0.6885245901639344, 0.6885245901639344, 0.7049180327868853, 0.7049180327868853], \"type\": \"scatter\", \"x\": [0, 1, 3, 7, 11, 13, 15]}, {\"name\": \"val_accuracies\", \"y\": [0.25, 0.5, 0.2, 0.5, 0.5, 0.5, 0.5], \"type\": \"scatter\", \"x\": [0, 1, 3, 7, 11, 13, 15]}, {\"name\": \"test_accuracies\", \"y\": [0.25, 0.6129032258064516, 0.5483870967741935, 0.5806451612903226, 0.5806451612903226, 0.6129032258064516, 0.6129032258064516], \"type\": \"scatter\", \"x\": [0, 1, 3, 7, 11, 13, 15]}], {\"yaxis\": {\"title\": \"Accuracy\"}, \"xaxis\": {\"title\": \"Iterations\"}, \"title\": \"Accuracy for multinomial model\"}, {\"linkText\": \"Export to plot.ly\", \"showLink\": true})});</script>"
      ],
      "text/plain": [
       "<IPython.core.display.HTML object>"
      ]
     },
     "metadata": {},
     "output_type": "display_data"
    },
    {
     "name": "stdout",
     "output_type": "stream",
     "text": [
      "Example run in 1.083 s\n"
     ]
    },
    {
     "data": {
      "text/html": [
       "<div id=\"084faf75-23e4-4a17-ac93-048ed754ea0d\" style=\"height: 525px; width: 100%;\" class=\"plotly-graph-div\"></div><script type=\"text/javascript\">require([\"plotly\"], function(Plotly) { window.PLOTLYENV=window.PLOTLYENV || {};window.PLOTLYENV.BASE_URL=\"https://plot.ly\";Plotly.newPlot(\"084faf75-23e4-4a17-ac93-048ed754ea0d\", [{\"y\": [\"BREAST\", \"IDC\", \"MDLC\", \"ILC\"], \"type\": \"heatmap\", \"x\": [\"BREAST\", \"IDC\", \"MDLC\", \"ILC\"], \"z\": [[0.0, 1.0, 0.0, 0.0], [0.0, 1.0, 0.0, 0.0], [0.0, 1.0, 0.0, 0.0], [0.0, 1.0, 0.0, 0.0]]}], {\"yaxis\": {\"title\": \"Truth\"}, \"xaxis\": {\"title\": \"Predicted\"}, \"title\": \"Confusion Matrix for Test Predictions\"}, {\"linkText\": \"Export to plot.ly\", \"showLink\": true})});</script>"
      ],
      "text/plain": [
       "<IPython.core.display.HTML object>"
      ]
     },
     "metadata": {},
     "output_type": "display_data"
    },
    {
     "data": {
      "text/html": [
       "<div id=\"9c7c3423-7baf-485b-b5b3-2568cbac0da4\" style=\"height: 525px; width: 100%;\" class=\"plotly-graph-div\"></div><script type=\"text/javascript\">require([\"plotly\"], function(Plotly) { window.PLOTLYENV=window.PLOTLYENV || {};window.PLOTLYENV.BASE_URL=\"https://plot.ly\";Plotly.newPlot(\"9c7c3423-7baf-485b-b5b3-2568cbac0da4\", [{\"y\": [\"BREAST\", \"IDC\", \"MDLC\", \"ILC\"], \"type\": \"heatmap\", \"x\": [\"BREAST\", \"IDC\", \"MDLC\", \"ILC\"], \"z\": [[0.0, 1.0, 0.0, 0.0], [0.0, 1.0, 0.0, 0.0], [0.0, 1.0, 0.0, 0.0], [0.0, 0.8571428571428571, 0.0, 0.14285714285714285]]}], {\"yaxis\": {\"title\": \"Truth\"}, \"xaxis\": {\"title\": \"Predicted\"}, \"title\": \"Confusion Matrix for Training Predictions\"}, {\"linkText\": \"Export to plot.ly\", \"showLink\": true})});</script>"
      ],
      "text/plain": [
       "<IPython.core.display.HTML object>"
      ]
     },
     "metadata": {},
     "output_type": "display_data"
    }
   ],
   "source": [
    "\n",
    "# random_indices = np.random.permutation(len(merged))\n",
    "\n",
    "# X_randomized = merged.iloc[random_indices]\n",
    "# Y_randomized = labels[:-1].iloc[random_indices]\n",
    "\n",
    "\n",
    "sample_lr_l1 = run_regression(X_randomized, Y_randomized, penalty = 'l2')"
   ]
  },
  {
   "cell_type": "code",
   "execution_count": null,
   "metadata": {
    "collapsed": true
   },
   "outputs": [],
   "source": []
  },
  {
   "cell_type": "code",
   "execution_count": null,
   "metadata": {
    "collapsed": true
   },
   "outputs": [],
   "source": []
  }
 ],
 "metadata": {
  "kernelspec": {
   "display_name": "Python 3",
   "language": "python",
   "name": "python3"
  },
  "language_info": {
   "codemirror_mode": {
    "name": "ipython",
    "version": 3
   },
   "file_extension": ".py",
   "mimetype": "text/x-python",
   "name": "python",
   "nbconvert_exporter": "python",
   "pygments_lexer": "ipython3",
   "version": "3.5.0"
  }
 },
 "nbformat": 4,
 "nbformat_minor": 2
}
