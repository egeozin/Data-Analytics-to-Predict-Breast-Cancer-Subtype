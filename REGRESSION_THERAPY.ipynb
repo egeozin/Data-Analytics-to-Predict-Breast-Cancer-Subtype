{
 "cells": [
  {
   "cell_type": "code",
   "execution_count": 6,
   "metadata": {
    "collapsed": true
   },
   "outputs": [],
   "source": [
    "import numpy as np\n",
    "import pandas as pd\n",
    "import math\n",
    "from sklearn.preprocessing import StandardScaler\n",
    "from sklearn.decomposition import TruncatedSVD\n",
    "from sklearn import decomposition\n",
    "from sklearn.linear_model import LogisticRegression\n",
    "from sklearn.linear_model import ElasticNet\n",
    "from sklearn.model_selection import train_test_split\n",
    "from sklearn.preprocessing import OneHotEncoder\n",
    "from sklearn.multioutput import MultiOutputRegressor\n",
    "from matplotlib import pyplot as plt\n",
    "import matplotlib.style as style\n",
    "import time"
   ]
  },
  {
   "cell_type": "code",
   "execution_count": 7,
   "metadata": {},
   "outputs": [
    {
     "data": {
      "text/html": [
       "<script>requirejs.config({paths: { 'plotly': ['https://cdn.plot.ly/plotly-latest.min']},});if(!window.Plotly) {{require(['plotly'],function(plotly) {window.Plotly=plotly;});}}</script>"
      ],
      "text/vnd.plotly.v1+html": [
       "<script>requirejs.config({paths: { 'plotly': ['https://cdn.plot.ly/plotly-latest.min']},});if(!window.Plotly) {{require(['plotly'],function(plotly) {window.Plotly=plotly;});}}</script>"
      ]
     },
     "metadata": {},
     "output_type": "display_data"
    }
   ],
   "source": [
    "import plotly\n",
    "from plotly.offline import init_notebook_mode, iplot\n",
    "init_notebook_mode(connected=True)\n",
    "plotly.plotly.sign_in('spersad', 'oNkuP1yzbpN734Ag8M9P')\n",
    "import plotly.graph_objs as go\n",
    "\n",
    "from IPython.core.display import display, HTML"
   ]
  },
  {
   "cell_type": "code",
   "execution_count": 8,
   "metadata": {},
   "outputs": [],
   "source": [
    "style.use('fivethirtyeight')\n",
    "imputed = 'PATIENT_DATA_ALL_3.csv'\n",
    "therapy = 'PATIENT_DATA_THERAPY.csv'\n",
    "merged = pd.read_csv(imputed,sep='\\t')\n",
    "therapy = pd.read_csv(therapy,sep='\\t')\n",
    "cna = pd.read_csv('data_CNA.xls.txt',sep='\\t')"
   ]
  },
  {
   "cell_type": "code",
   "execution_count": 9,
   "metadata": {},
   "outputs": [],
   "source": [
    "cna.set_index('Hugo_Symbol', inplace=True)\n",
    "cna.drop(['Entrez_Gene_Id'], axis=1,inplace=True)\n",
    "cna = cna.transpose()\n",
    "cna.sort_index(inplace=True)\n",
    "#cna = cna[:-1] # getting rid of the last row\n",
    "\n",
    "#merged.sort_values('SAMPLE_ID', ascending=False)\n",
    "merged.set_index('SAMPLE_ID',inplace=True)\n",
    "merged.drop('PATIENT_ID', axis=1,inplace=True)\n",
    "merged.drop(['Unnamed: 0'], axis=1,inplace=True)\n",
    "merged.sort_index(inplace=True)\n",
    "\n",
    "therapy.drop('PATIENT_ID', axis=1,inplace=True)\n",
    "therapy.drop(['Unnamed: 0'], axis=1,inplace=True)\n",
    "therapy.set_index('SAMPLE_ID', inplace=True)\n",
    "therapy.sort_index(inplace=True)\n",
    "\n",
    "clinical_n_cna = pd.concat([merged, cna], axis=1)\n",
    "\n",
    "columns = list(therapy.columns)\n",
    "categories = list(range(len(columns)))\n",
    "category_dict = dict(zip(columns, categories))\n",
    "\n",
    "clinical_n_cna = clinical_n_cna.dropna(axis=0, how='any')"
   ]
  },
  {
   "cell_type": "code",
   "execution_count": 10,
   "metadata": {
    "collapsed": true
   },
   "outputs": [],
   "source": [
    "X = clinical_n_cna.as_matrix() \n",
    "Y = therapy.as_matrix()"
   ]
  },
  {
   "cell_type": "code",
   "execution_count": 11,
   "metadata": {
    "collapsed": true
   },
   "outputs": [],
   "source": [
    "from sklearn.model_selection import train_test_split\n",
    "from sklearn.ensemble import RandomForestRegressor\n",
    "import time"
   ]
  },
  {
   "cell_type": "code",
   "execution_count": 12,
   "metadata": {
    "collapsed": true,
    "scrolled": false
   },
   "outputs": [],
   "source": [
    "randomize = True\n",
    "if randomize:\n",
    "    random_indices = np.random.permutation(len(X))\n",
    "    # Randomized data\n",
    "    X_r = X[random_indices]\n",
    "    Y_r = Y[random_indices]\n",
    "\n",
    "# Select a training, test and validation set\n",
    "n_train = int(0.5*X.shape[0])\n",
    "n_val = int(0.1*X.shape[0])\n",
    "\n",
    "X_train, y_train = X_r[:n_train], Y_r[:n_train]\n",
    "X_val, y_val = X_r[n_train:n_train+n_val], Y_r[n_train:n_train+n_val]\n",
    "X_test, y_test = X_r[n_train+n_val:], Y_r[n_train+n_val:]"
   ]
  },
  {
   "cell_type": "code",
   "execution_count": 14,
   "metadata": {},
   "outputs": [
    {
     "name": "stdout",
     "output_type": "stream",
     "text": [
      "Dataset 2CN, train_samples=51, n_features=23168, n_classes=2\n",
      "Using l1 regression\n",
      "[model=One versus Rest, solver=liblinear] Number of epochs: 1\n",
      "[model=One versus Rest, solver=liblinear] Number of epochs: 3\n",
      "Test accuracy for model ovr: 35.1707\n",
      "Train accuracy for model ovr: 40.7451\n",
      "Validation accuracy for model ovr: 33.8000\n",
      "Run time (3 epochs) for model ovr:5.18\n"
     ]
    },
    {
     "data": {
      "application/vnd.plotly.v1+json": {
       "data": [
        {
         "name": "tr_accuracies",
         "type": "scatter",
         "x": [
          0,
          5.388584999999999,
          5.183897000000002
         ],
         "y": [
          0.5,
          40.745098039215684,
          40.745098039215684
         ]
        },
        {
         "name": "val_accuracies",
         "type": "scatter",
         "x": [
          0,
          5.388584999999999,
          5.183897000000002
         ],
         "y": [
          0.5,
          33.8,
          33.8
         ]
        },
        {
         "name": "test_accuracies",
         "type": "scatter",
         "x": [
          0,
          5.388584999999999,
          5.183897000000002
         ],
         "y": [
          0.5,
          35.170731707317074,
          35.170731707317074
         ]
        }
       ],
       "layout": {
        "title": "Accuracy for ovr model",
        "xaxis": {
         "title": "Time"
        },
        "yaxis": {
         "title": "Accuracy"
        }
       }
      },
      "text/html": [
       "<div id=\"f6881717-ab3f-4092-bda2-b9b61c64b6ba\" style=\"height: 525px; width: 100%;\" class=\"plotly-graph-div\"></div><script type=\"text/javascript\">require([\"plotly\"], function(Plotly) { window.PLOTLYENV=window.PLOTLYENV || {};window.PLOTLYENV.BASE_URL=\"https://plot.ly\";Plotly.newPlot(\"f6881717-ab3f-4092-bda2-b9b61c64b6ba\", [{\"y\": [0.5, 40.745098039215684, 40.745098039215684], \"type\": \"scatter\", \"x\": [0, 5.388584999999999, 5.183897000000002], \"name\": \"tr_accuracies\"}, {\"y\": [0.5, 33.8, 33.8], \"type\": \"scatter\", \"x\": [0, 5.388584999999999, 5.183897000000002], \"name\": \"val_accuracies\"}, {\"y\": [0.5, 35.170731707317074, 35.170731707317074], \"type\": \"scatter\", \"x\": [0, 5.388584999999999, 5.183897000000002], \"name\": \"test_accuracies\"}], {\"yaxis\": {\"title\": \"Accuracy\"}, \"title\": \"Accuracy for ovr model\", \"xaxis\": {\"title\": \"Time\"}}, {\"showLink\": true, \"linkText\": \"Export to plot.ly\"})});</script>"
      ],
      "text/vnd.plotly.v1+html": [
       "<div id=\"f6881717-ab3f-4092-bda2-b9b61c64b6ba\" style=\"height: 525px; width: 100%;\" class=\"plotly-graph-div\"></div><script type=\"text/javascript\">require([\"plotly\"], function(Plotly) { window.PLOTLYENV=window.PLOTLYENV || {};window.PLOTLYENV.BASE_URL=\"https://plot.ly\";Plotly.newPlot(\"f6881717-ab3f-4092-bda2-b9b61c64b6ba\", [{\"y\": [0.5, 40.745098039215684, 40.745098039215684], \"type\": \"scatter\", \"x\": [0, 5.388584999999999, 5.183897000000002], \"name\": \"tr_accuracies\"}, {\"y\": [0.5, 33.8, 33.8], \"type\": \"scatter\", \"x\": [0, 5.388584999999999, 5.183897000000002], \"name\": \"val_accuracies\"}, {\"y\": [0.5, 35.170731707317074, 35.170731707317074], \"type\": \"scatter\", \"x\": [0, 5.388584999999999, 5.183897000000002], \"name\": \"test_accuracies\"}], {\"yaxis\": {\"title\": \"Accuracy\"}, \"title\": \"Accuracy for ovr model\", \"xaxis\": {\"title\": \"Time\"}}, {\"showLink\": true, \"linkText\": \"Export to plot.ly\"})});</script>"
      ]
     },
     "metadata": {},
     "output_type": "display_data"
    },
    {
     "name": "stdout",
     "output_type": "stream",
     "text": [
      "Example run in 11.231 s\n"
     ]
    }
   ],
   "source": [
    "# Turn down for faster run time\n",
    "n_samples = 10000\n",
    "\n",
    "penalty = 'l1'\n",
    "\n",
    "train_samples, n_features = X_train.shape\n",
    "n_classes = np.unique(Y).shape[0]\n",
    "\n",
    "t0 = time.clock()\n",
    "\n",
    "print('Dataset 2CN, train_samples=%i, n_features=%i, n_classes=%i'\n",
    "      % (train_samples, n_features, n_classes))\n",
    "\n",
    "models = {'ovr': {'name': 'One versus Rest', 'iters': [1, 3, 7, 11, 13, 15]},\n",
    "          'multinomial': {'name': 'Multinomial', 'iters': [1, 3, 7, 11, 13, 15]}}\n",
    "\n",
    "# Solver which handles multiclass and l1 penalty\n",
    "solver = 'newton-cg'\n",
    "\n",
    "if penalty == 'l1':\n",
    "    print('Using l1 regression')\n",
    "    models = {'ovr': {'name': 'One versus Rest', 'iters': [1, 3]}}\n",
    "    solver = 'liblinear'\n",
    "    \n",
    "for model in models:\n",
    "    # Add initial chance-level values for plotting purpose\n",
    "    test_accuracies = [1 / n_classes]\n",
    "    tr_accuracies = [1/n_classes]\n",
    "    val_accuracies = [1/n_classes]\n",
    "    times = [0]\n",
    "    densities = [1]\n",
    "\n",
    "    model_params = models[model]\n",
    "\n",
    "    # Small number of epochs for fast runtime\n",
    "    for this_max_iter in model_params['iters']:\n",
    "        print('[model=%s, solver=%s] Number of epochs: %s' %\n",
    "              (model_params['name'], solver, this_max_iter))\n",
    "        #lr = LogisticRegression(solver=solver,multi_class=model,C=1,penalty=penalty,fit_intercept=True, max_iter=this_max_iter, random_state=42)\n",
    "        max_depth = 30\n",
    "        lr = MultiOutputRegressor(RandomForestRegressor(max_depth=max_depth,\n",
    "                                                          random_state=0))\n",
    "        t1 = time.clock()\n",
    "        lr.fit(X_train, y_train)\n",
    "        train_time = time.clock() - t1\n",
    "\n",
    "        y_pred = lr.predict(X_test)\n",
    "        accuracy = np.sum(y_pred == y_test) / y_test.shape[0]\n",
    "        #density = np.mean(lr.get_params(deep=True) != 0, axis=1) * 100\n",
    "        tr_accuracy = np.sum(y_train == lr.predict(X_train)) / y_train.shape[0]\n",
    "        val_accuracy = np.sum(y_val == lr.predict(X_val)) / y_val.shape[0]\n",
    "        \n",
    "        test_accuracies.append(accuracy)\n",
    "        #densities.append(density)\n",
    "        tr_accuracies.append(tr_accuracy)\n",
    "        val_accuracies.append(val_accuracy)\n",
    "        times.append(train_time)\n",
    "    models[model]['times'] = times\n",
    "    #models[model]['densities'] = densities\n",
    "    models[model]['test_accuracies'] = test_accuracies\n",
    "    models[model]['tr_accuracies'] = tr_accuracies\n",
    "    models[model]['val_accuracies'] = val_accuracies\n",
    "    \n",
    "    print('Test accuracy for model %s: %.4f' % (model, test_accuracies[-1]))\n",
    "    print('Train accuracy for model %s: %.4f' % (model, tr_accuracies[-1]))\n",
    "    print('Validation accuracy for model %s: %.4f' % (model, val_accuracies[-1]))\n",
    "    #print('%% non-zero coefficients for model %s, '\n",
    "    #     'per class:\\n %s' % (model, densities[-1]))\n",
    "    print('Run time (%i epochs) for model %s:'\n",
    "          '%.2f' % (model_params['iters'][-1], model, times[-1]))\n",
    "\n",
    "fig = plt.figure()\n",
    "ax = fig.add_subplot(111)\n",
    "\n",
    "for model in models:\n",
    "    data = []\n",
    "    for accuracy in ['tr_accuracies', 'val_accuracies','test_accuracies']:\n",
    "        \n",
    "        trace = go.Scatter(\n",
    "                            x = models[model]['times'],\n",
    "                            y = models[model][accuracy],\n",
    "                            name = accuracy\n",
    "                        )\n",
    "\n",
    "        data.append(trace)\n",
    "    layout = go.Layout(\n",
    "        title = 'Accuracy for {0} model'.format(model),\n",
    "        xaxis = dict(title = 'Time'),\n",
    "        yaxis = dict(title = 'Accuracy'),\n",
    "    )\n",
    "\n",
    "    fig = go.Figure(data=data, layout=layout)\n",
    "    iplot(fig)\n",
    "        \n",
    "run_time = time.clock() - t0\n",
    "print('Example run in %.3f s' % run_time)"
   ]
  },
  {
   "cell_type": "code",
   "execution_count": null,
   "metadata": {
    "collapsed": true
   },
   "outputs": [],
   "source": []
  }
 ],
 "metadata": {
  "kernelspec": {
   "display_name": "Python 3",
   "language": "python",
   "name": "python3"
  },
  "language_info": {
   "codemirror_mode": {
    "name": "ipython",
    "version": 3
   },
   "file_extension": ".py",
   "mimetype": "text/x-python",
   "name": "python",
   "nbconvert_exporter": "python",
   "pygments_lexer": "ipython3",
   "version": "3.5.3"
  }
 },
 "nbformat": 4,
 "nbformat_minor": 2
}
